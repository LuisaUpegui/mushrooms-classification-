{
  "nbformat": 4,
  "nbformat_minor": 0,
  "metadata": {
    "colab": {
      "provenance": [],
      "mount_file_id": "10_Ye0pyyAx4ixNinOOd9fxC5U6gs7kBY",
      "authorship_tag": "ABX9TyMfWULvVLYdi5mQ8/Y7il4/",
      "include_colab_link": true
    },
    "kernelspec": {
      "name": "python3",
      "display_name": "Python 3"
    },
    "language_info": {
      "name": "python"
    }
  },
  "cells": [
    {
      "cell_type": "markdown",
      "metadata": {
        "id": "view-in-github",
        "colab_type": "text"
      },
      "source": [
        "<a href=\"https://colab.research.google.com/github/LuisaUpegui/mushrooms-classification-/blob/main/mushrooms.ipynb\" target=\"_parent\"><img src=\"https://colab.research.google.com/assets/colab-badge.svg\" alt=\"Open In Colab\"/></a>"
      ]
    },
    {
      "cell_type": "markdown",
      "source": [
        "\n",
        "**Data information**\n",
        "\n",
        "***Source***\n",
        "\n",
        "This data was obtained from: *Mushroom records drawn from The Audubon Society Field Guide to North American Mushrooms (1981)*. G. H. Lincoff (Pres.), New York: Alfred A. Knopf\n",
        "\n",
        "*Donor:*\n",
        "Jeff Schlimmer (Jeffrey.Schlimmer '@' a.gp.cs.cmu.edu)\n"
      ],
      "metadata": {
        "id": "hduqfJtHud2M"
      }
    },
    {
      "cell_type": "markdown",
      "source": [
        "**Attribute Information:**\n",
        "\n",
        "This data set includes some morphological and physiological  characteristics corresponding to 23 species of gilled mushrooms in the Agaricus and Lepiota Family from agaricales order uselful to classify them as a definitely edible, definitely poisonous (class in the data set this one is also our target).\n",
        "\n",
        "\n",
        "\n",
        "1. cap-shape: bell=b,conical=c,convex=x,flat=f, knobbed=k,sunken=s\n",
        "\n",
        "2. cap-surface: fibrous=f,grooves=g,scaly=y,smooth=s\n",
        "\n",
        "3. cap-color: brown=n,buff=b,cinnamon=c,gray=g,green=r, pink=p,purple=u,red=e,white=w,yellow=y\n",
        "\n",
        "4. bruises?: bruises=t,no=f\n",
        "\n",
        "5. odor: almond=a,anise=l,creosote=c,fishy=y,foul=f, musty=m,none=n,pungent=p,spicy=s\n",
        "\n",
        "6. gill-attachment: attached=a,descending=d,free=f,notched=n\n",
        "\n",
        "7. gill-spacing: close=c,crowded=w,distant=d\n",
        "\n",
        "8. gill-size: broad=b,narrow=n\n",
        "\n",
        "9. gill-color: black=k,brown=n,buff=b,chocolate=h,gray=g, green=r,orange=o,\n",
        "pink=p,purple=u,red=e, white=w,yellow=y\n",
        "\n",
        "10. stalk-shape: enlarging=e,tapering=t\n",
        "\n",
        "11. stalk-root: bulbous=b,club=c,cup=u,equal=e, rhizomorphs=z,rooted=r,missing=?\n",
        "\n",
        "12. stalk-surface-above-ring: fibrous=f,scaly=y,silky=k,smooth=s\n",
        "\n",
        "13. stalk-surface-below-ring: fibrous=f,scaly=y,silky=k,smooth=s\n",
        "\n",
        "14. stalk-color-above-ring: brown=n,buff=b,cinnamon=c,gray=g,orange=o, pink=p,red=e,white=w,yellow=y\n",
        "\n",
        "15. stalk-color-below-ring: brown=n,buff=b,cinnamon=c,gray=g,orange=o, pink=p,red=e,white=w,yellow=y\n",
        "\n",
        "16. veil-type: partial=p,universal=u\n",
        "\n",
        "17. veil-color: brown=n,orange=o,white=w,yellow=y\n",
        "\n",
        "18. ring-number: none=n,one=o,two=t\n",
        "\n",
        "19. ring-type: cobwebby=c,evanescent=e,flaring=f,large=l, none=n,pendant=p,sheathing=s,zone=z\n",
        "\n",
        "20. spore-print-color: black=k,brown=n,buff=b,chocolate=h,green=r, orange=o,purple=u,white=w,yellow=y\n",
        "\n",
        "21. population: abundant=a,clustered=c,numerous=n, scattered=s,several=v,solitary=y\n",
        "\n",
        "22. habitat: grasses=g,leaves=l,meadows=m,paths=p, urban=u,waste=w,woods=d"
      ],
      "metadata": {
        "id": "bMKQibj5v7ml"
      }
    },
    {
      "cell_type": "markdown",
      "source": [
        "# What is the object of this project\n",
        "\n",
        "the main object of this project its to create a model that can classify if a mushroom is edible or poisonous based on some morphological, biological and physiological characteristics \n"
      ],
      "metadata": {
        "id": "fQPDe9DelqB1"
      }
    },
    {
      "cell_type": "markdown",
      "source": [
        "# Imports\n"
      ],
      "metadata": {
        "id": "wsneTnaZUfnb"
      }
    },
    {
      "cell_type": "code",
      "source": [
        "from google.colab import drive #Dar acceso al drive \n",
        "drive.mount('/content/drive')"
      ],
      "metadata": {
        "colab": {
          "base_uri": "https://localhost:8080/"
        },
        "id": "Qx_eqPTz3br6",
        "outputId": "4f732118-1f71-4cfc-f126-50ce95996c1a"
      },
      "execution_count": null,
      "outputs": [
        {
          "output_type": "stream",
          "name": "stdout",
          "text": [
            "Drive already mounted at /content/drive; to attempt to forcibly remount, call drive.mount(\"/content/drive\", force_remount=True).\n"
          ]
        }
      ]
    },
    {
      "cell_type": "code",
      "source": [
        "import seaborn as sns\n",
        "import numpy as np\n",
        "import matplotlib.pyplot as plt\n",
        "from sklearn.pipeline import make_pipeline\n",
        "from sklearn.preprocessing import StandardScaler, OneHotEncoder\n",
        "from sklearn.tree import DecisionTreeClassifier\n",
        "from sklearn.model_selection import train_test_split\n",
        "from sklearn import set_config\n",
        "set_config(display='diagram')\n",
        "from sklearn.compose import make_column_selector, make_column_transformer\n",
        "from sklearn.metrics import classification_report"
      ],
      "metadata": {
        "id": "RdOUSGg43lxC"
      },
      "execution_count": null,
      "outputs": []
    },
    {
      "cell_type": "markdown",
      "source": [
        "# Data exploration"
      ],
      "metadata": {
        "id": "sYRNl-HiUNZ9"
      }
    },
    {
      "cell_type": "code",
      "source": [
        "import pandas as pd \n",
        "filename=\"/content/drive/MyDrive/Colab Notebooks/Coding dojo/project 2/mushrooms.csv\""
      ],
      "metadata": {
        "id": "tOFC30Iz3oV1"
      },
      "execution_count": null,
      "outputs": []
    },
    {
      "cell_type": "code",
      "source": [
        "df=pd.read_csv(filename)"
      ],
      "metadata": {
        "id": "nlxQ7IJ54EsS"
      },
      "execution_count": null,
      "outputs": []
    },
    {
      "cell_type": "code",
      "source": [
        "df.head(15)"
      ],
      "metadata": {
        "colab": {
          "base_uri": "https://localhost:8080/",
          "height": 665
        },
        "id": "HwslAAgU4J81",
        "outputId": "ce458d69-0a64-4cfc-cac4-d8f63e6cc580"
      },
      "execution_count": null,
      "outputs": [
        {
          "output_type": "execute_result",
          "data": {
            "text/plain": [
              "   class cap-shape cap-surface cap-color bruises odor gill-attachment  \\\n",
              "0      p         x           s         n       t    p               f   \n",
              "1      e         x           s         y       t    a               f   \n",
              "2      e         b           s         w       t    l               f   \n",
              "3      p         x           y         w       t    p               f   \n",
              "4      e         x           s         g       f    n               f   \n",
              "5      e         x           y         y       t    a               f   \n",
              "6      e         b           s         w       t    a               f   \n",
              "7      e         b           y         w       t    l               f   \n",
              "8      p         x           y         w       t    p               f   \n",
              "9      e         b           s         y       t    a               f   \n",
              "10     e         x           y         y       t    l               f   \n",
              "11     e         x           y         y       t    a               f   \n",
              "12     e         b           s         y       t    a               f   \n",
              "13     p         x           y         w       t    p               f   \n",
              "14     e         x           f         n       f    n               f   \n",
              "\n",
              "   gill-spacing gill-size gill-color  ... stalk-surface-below-ring  \\\n",
              "0             c         n          k  ...                        s   \n",
              "1             c         b          k  ...                        s   \n",
              "2             c         b          n  ...                        s   \n",
              "3             c         n          n  ...                        s   \n",
              "4             w         b          k  ...                        s   \n",
              "5             c         b          n  ...                        s   \n",
              "6             c         b          g  ...                        s   \n",
              "7             c         b          n  ...                        s   \n",
              "8             c         n          p  ...                        s   \n",
              "9             c         b          g  ...                        s   \n",
              "10            c         b          g  ...                        s   \n",
              "11            c         b          n  ...                        s   \n",
              "12            c         b          w  ...                        s   \n",
              "13            c         n          k  ...                        s   \n",
              "14            w         b          n  ...                        f   \n",
              "\n",
              "   stalk-color-above-ring stalk-color-below-ring veil-type veil-color  \\\n",
              "0                       w                      w         p          w   \n",
              "1                       w                      w         p          w   \n",
              "2                       w                      w         p          w   \n",
              "3                       w                      w         p          w   \n",
              "4                       w                      w         p          w   \n",
              "5                       w                      w         p          w   \n",
              "6                       w                      w         p          w   \n",
              "7                       w                      w         p          w   \n",
              "8                       w                      w         p          w   \n",
              "9                       w                      w         p          w   \n",
              "10                      w                      w         p          w   \n",
              "11                      w                      w         p          w   \n",
              "12                      w                      w         p          w   \n",
              "13                      w                      w         p          w   \n",
              "14                      w                      w         p          w   \n",
              "\n",
              "   ring-number ring-type spore-print-color population habitat  \n",
              "0            o         p                 k          s       u  \n",
              "1            o         p                 n          n       g  \n",
              "2            o         p                 n          n       m  \n",
              "3            o         p                 k          s       u  \n",
              "4            o         e                 n          a       g  \n",
              "5            o         p                 k          n       g  \n",
              "6            o         p                 k          n       m  \n",
              "7            o         p                 n          s       m  \n",
              "8            o         p                 k          v       g  \n",
              "9            o         p                 k          s       m  \n",
              "10           o         p                 n          n       g  \n",
              "11           o         p                 k          s       m  \n",
              "12           o         p                 n          s       g  \n",
              "13           o         p                 n          v       u  \n",
              "14           o         e                 k          a       g  \n",
              "\n",
              "[15 rows x 22 columns]"
            ],
            "text/html": [
              "\n",
              "  <div id=\"df-ef325b46-9885-425d-a5a6-03cd3ea9a380\">\n",
              "    <div class=\"colab-df-container\">\n",
              "      <div>\n",
              "<style scoped>\n",
              "    .dataframe tbody tr th:only-of-type {\n",
              "        vertical-align: middle;\n",
              "    }\n",
              "\n",
              "    .dataframe tbody tr th {\n",
              "        vertical-align: top;\n",
              "    }\n",
              "\n",
              "    .dataframe thead th {\n",
              "        text-align: right;\n",
              "    }\n",
              "</style>\n",
              "<table border=\"1\" class=\"dataframe\">\n",
              "  <thead>\n",
              "    <tr style=\"text-align: right;\">\n",
              "      <th></th>\n",
              "      <th>class</th>\n",
              "      <th>cap-shape</th>\n",
              "      <th>cap-surface</th>\n",
              "      <th>cap-color</th>\n",
              "      <th>bruises</th>\n",
              "      <th>odor</th>\n",
              "      <th>gill-attachment</th>\n",
              "      <th>gill-spacing</th>\n",
              "      <th>gill-size</th>\n",
              "      <th>gill-color</th>\n",
              "      <th>...</th>\n",
              "      <th>stalk-surface-below-ring</th>\n",
              "      <th>stalk-color-above-ring</th>\n",
              "      <th>stalk-color-below-ring</th>\n",
              "      <th>veil-type</th>\n",
              "      <th>veil-color</th>\n",
              "      <th>ring-number</th>\n",
              "      <th>ring-type</th>\n",
              "      <th>spore-print-color</th>\n",
              "      <th>population</th>\n",
              "      <th>habitat</th>\n",
              "    </tr>\n",
              "  </thead>\n",
              "  <tbody>\n",
              "    <tr>\n",
              "      <th>0</th>\n",
              "      <td>p</td>\n",
              "      <td>x</td>\n",
              "      <td>s</td>\n",
              "      <td>n</td>\n",
              "      <td>t</td>\n",
              "      <td>p</td>\n",
              "      <td>f</td>\n",
              "      <td>c</td>\n",
              "      <td>n</td>\n",
              "      <td>k</td>\n",
              "      <td>...</td>\n",
              "      <td>s</td>\n",
              "      <td>w</td>\n",
              "      <td>w</td>\n",
              "      <td>p</td>\n",
              "      <td>w</td>\n",
              "      <td>o</td>\n",
              "      <td>p</td>\n",
              "      <td>k</td>\n",
              "      <td>s</td>\n",
              "      <td>u</td>\n",
              "    </tr>\n",
              "    <tr>\n",
              "      <th>1</th>\n",
              "      <td>e</td>\n",
              "      <td>x</td>\n",
              "      <td>s</td>\n",
              "      <td>y</td>\n",
              "      <td>t</td>\n",
              "      <td>a</td>\n",
              "      <td>f</td>\n",
              "      <td>c</td>\n",
              "      <td>b</td>\n",
              "      <td>k</td>\n",
              "      <td>...</td>\n",
              "      <td>s</td>\n",
              "      <td>w</td>\n",
              "      <td>w</td>\n",
              "      <td>p</td>\n",
              "      <td>w</td>\n",
              "      <td>o</td>\n",
              "      <td>p</td>\n",
              "      <td>n</td>\n",
              "      <td>n</td>\n",
              "      <td>g</td>\n",
              "    </tr>\n",
              "    <tr>\n",
              "      <th>2</th>\n",
              "      <td>e</td>\n",
              "      <td>b</td>\n",
              "      <td>s</td>\n",
              "      <td>w</td>\n",
              "      <td>t</td>\n",
              "      <td>l</td>\n",
              "      <td>f</td>\n",
              "      <td>c</td>\n",
              "      <td>b</td>\n",
              "      <td>n</td>\n",
              "      <td>...</td>\n",
              "      <td>s</td>\n",
              "      <td>w</td>\n",
              "      <td>w</td>\n",
              "      <td>p</td>\n",
              "      <td>w</td>\n",
              "      <td>o</td>\n",
              "      <td>p</td>\n",
              "      <td>n</td>\n",
              "      <td>n</td>\n",
              "      <td>m</td>\n",
              "    </tr>\n",
              "    <tr>\n",
              "      <th>3</th>\n",
              "      <td>p</td>\n",
              "      <td>x</td>\n",
              "      <td>y</td>\n",
              "      <td>w</td>\n",
              "      <td>t</td>\n",
              "      <td>p</td>\n",
              "      <td>f</td>\n",
              "      <td>c</td>\n",
              "      <td>n</td>\n",
              "      <td>n</td>\n",
              "      <td>...</td>\n",
              "      <td>s</td>\n",
              "      <td>w</td>\n",
              "      <td>w</td>\n",
              "      <td>p</td>\n",
              "      <td>w</td>\n",
              "      <td>o</td>\n",
              "      <td>p</td>\n",
              "      <td>k</td>\n",
              "      <td>s</td>\n",
              "      <td>u</td>\n",
              "    </tr>\n",
              "    <tr>\n",
              "      <th>4</th>\n",
              "      <td>e</td>\n",
              "      <td>x</td>\n",
              "      <td>s</td>\n",
              "      <td>g</td>\n",
              "      <td>f</td>\n",
              "      <td>n</td>\n",
              "      <td>f</td>\n",
              "      <td>w</td>\n",
              "      <td>b</td>\n",
              "      <td>k</td>\n",
              "      <td>...</td>\n",
              "      <td>s</td>\n",
              "      <td>w</td>\n",
              "      <td>w</td>\n",
              "      <td>p</td>\n",
              "      <td>w</td>\n",
              "      <td>o</td>\n",
              "      <td>e</td>\n",
              "      <td>n</td>\n",
              "      <td>a</td>\n",
              "      <td>g</td>\n",
              "    </tr>\n",
              "    <tr>\n",
              "      <th>5</th>\n",
              "      <td>e</td>\n",
              "      <td>x</td>\n",
              "      <td>y</td>\n",
              "      <td>y</td>\n",
              "      <td>t</td>\n",
              "      <td>a</td>\n",
              "      <td>f</td>\n",
              "      <td>c</td>\n",
              "      <td>b</td>\n",
              "      <td>n</td>\n",
              "      <td>...</td>\n",
              "      <td>s</td>\n",
              "      <td>w</td>\n",
              "      <td>w</td>\n",
              "      <td>p</td>\n",
              "      <td>w</td>\n",
              "      <td>o</td>\n",
              "      <td>p</td>\n",
              "      <td>k</td>\n",
              "      <td>n</td>\n",
              "      <td>g</td>\n",
              "    </tr>\n",
              "    <tr>\n",
              "      <th>6</th>\n",
              "      <td>e</td>\n",
              "      <td>b</td>\n",
              "      <td>s</td>\n",
              "      <td>w</td>\n",
              "      <td>t</td>\n",
              "      <td>a</td>\n",
              "      <td>f</td>\n",
              "      <td>c</td>\n",
              "      <td>b</td>\n",
              "      <td>g</td>\n",
              "      <td>...</td>\n",
              "      <td>s</td>\n",
              "      <td>w</td>\n",
              "      <td>w</td>\n",
              "      <td>p</td>\n",
              "      <td>w</td>\n",
              "      <td>o</td>\n",
              "      <td>p</td>\n",
              "      <td>k</td>\n",
              "      <td>n</td>\n",
              "      <td>m</td>\n",
              "    </tr>\n",
              "    <tr>\n",
              "      <th>7</th>\n",
              "      <td>e</td>\n",
              "      <td>b</td>\n",
              "      <td>y</td>\n",
              "      <td>w</td>\n",
              "      <td>t</td>\n",
              "      <td>l</td>\n",
              "      <td>f</td>\n",
              "      <td>c</td>\n",
              "      <td>b</td>\n",
              "      <td>n</td>\n",
              "      <td>...</td>\n",
              "      <td>s</td>\n",
              "      <td>w</td>\n",
              "      <td>w</td>\n",
              "      <td>p</td>\n",
              "      <td>w</td>\n",
              "      <td>o</td>\n",
              "      <td>p</td>\n",
              "      <td>n</td>\n",
              "      <td>s</td>\n",
              "      <td>m</td>\n",
              "    </tr>\n",
              "    <tr>\n",
              "      <th>8</th>\n",
              "      <td>p</td>\n",
              "      <td>x</td>\n",
              "      <td>y</td>\n",
              "      <td>w</td>\n",
              "      <td>t</td>\n",
              "      <td>p</td>\n",
              "      <td>f</td>\n",
              "      <td>c</td>\n",
              "      <td>n</td>\n",
              "      <td>p</td>\n",
              "      <td>...</td>\n",
              "      <td>s</td>\n",
              "      <td>w</td>\n",
              "      <td>w</td>\n",
              "      <td>p</td>\n",
              "      <td>w</td>\n",
              "      <td>o</td>\n",
              "      <td>p</td>\n",
              "      <td>k</td>\n",
              "      <td>v</td>\n",
              "      <td>g</td>\n",
              "    </tr>\n",
              "    <tr>\n",
              "      <th>9</th>\n",
              "      <td>e</td>\n",
              "      <td>b</td>\n",
              "      <td>s</td>\n",
              "      <td>y</td>\n",
              "      <td>t</td>\n",
              "      <td>a</td>\n",
              "      <td>f</td>\n",
              "      <td>c</td>\n",
              "      <td>b</td>\n",
              "      <td>g</td>\n",
              "      <td>...</td>\n",
              "      <td>s</td>\n",
              "      <td>w</td>\n",
              "      <td>w</td>\n",
              "      <td>p</td>\n",
              "      <td>w</td>\n",
              "      <td>o</td>\n",
              "      <td>p</td>\n",
              "      <td>k</td>\n",
              "      <td>s</td>\n",
              "      <td>m</td>\n",
              "    </tr>\n",
              "    <tr>\n",
              "      <th>10</th>\n",
              "      <td>e</td>\n",
              "      <td>x</td>\n",
              "      <td>y</td>\n",
              "      <td>y</td>\n",
              "      <td>t</td>\n",
              "      <td>l</td>\n",
              "      <td>f</td>\n",
              "      <td>c</td>\n",
              "      <td>b</td>\n",
              "      <td>g</td>\n",
              "      <td>...</td>\n",
              "      <td>s</td>\n",
              "      <td>w</td>\n",
              "      <td>w</td>\n",
              "      <td>p</td>\n",
              "      <td>w</td>\n",
              "      <td>o</td>\n",
              "      <td>p</td>\n",
              "      <td>n</td>\n",
              "      <td>n</td>\n",
              "      <td>g</td>\n",
              "    </tr>\n",
              "    <tr>\n",
              "      <th>11</th>\n",
              "      <td>e</td>\n",
              "      <td>x</td>\n",
              "      <td>y</td>\n",
              "      <td>y</td>\n",
              "      <td>t</td>\n",
              "      <td>a</td>\n",
              "      <td>f</td>\n",
              "      <td>c</td>\n",
              "      <td>b</td>\n",
              "      <td>n</td>\n",
              "      <td>...</td>\n",
              "      <td>s</td>\n",
              "      <td>w</td>\n",
              "      <td>w</td>\n",
              "      <td>p</td>\n",
              "      <td>w</td>\n",
              "      <td>o</td>\n",
              "      <td>p</td>\n",
              "      <td>k</td>\n",
              "      <td>s</td>\n",
              "      <td>m</td>\n",
              "    </tr>\n",
              "    <tr>\n",
              "      <th>12</th>\n",
              "      <td>e</td>\n",
              "      <td>b</td>\n",
              "      <td>s</td>\n",
              "      <td>y</td>\n",
              "      <td>t</td>\n",
              "      <td>a</td>\n",
              "      <td>f</td>\n",
              "      <td>c</td>\n",
              "      <td>b</td>\n",
              "      <td>w</td>\n",
              "      <td>...</td>\n",
              "      <td>s</td>\n",
              "      <td>w</td>\n",
              "      <td>w</td>\n",
              "      <td>p</td>\n",
              "      <td>w</td>\n",
              "      <td>o</td>\n",
              "      <td>p</td>\n",
              "      <td>n</td>\n",
              "      <td>s</td>\n",
              "      <td>g</td>\n",
              "    </tr>\n",
              "    <tr>\n",
              "      <th>13</th>\n",
              "      <td>p</td>\n",
              "      <td>x</td>\n",
              "      <td>y</td>\n",
              "      <td>w</td>\n",
              "      <td>t</td>\n",
              "      <td>p</td>\n",
              "      <td>f</td>\n",
              "      <td>c</td>\n",
              "      <td>n</td>\n",
              "      <td>k</td>\n",
              "      <td>...</td>\n",
              "      <td>s</td>\n",
              "      <td>w</td>\n",
              "      <td>w</td>\n",
              "      <td>p</td>\n",
              "      <td>w</td>\n",
              "      <td>o</td>\n",
              "      <td>p</td>\n",
              "      <td>n</td>\n",
              "      <td>v</td>\n",
              "      <td>u</td>\n",
              "    </tr>\n",
              "    <tr>\n",
              "      <th>14</th>\n",
              "      <td>e</td>\n",
              "      <td>x</td>\n",
              "      <td>f</td>\n",
              "      <td>n</td>\n",
              "      <td>f</td>\n",
              "      <td>n</td>\n",
              "      <td>f</td>\n",
              "      <td>w</td>\n",
              "      <td>b</td>\n",
              "      <td>n</td>\n",
              "      <td>...</td>\n",
              "      <td>f</td>\n",
              "      <td>w</td>\n",
              "      <td>w</td>\n",
              "      <td>p</td>\n",
              "      <td>w</td>\n",
              "      <td>o</td>\n",
              "      <td>e</td>\n",
              "      <td>k</td>\n",
              "      <td>a</td>\n",
              "      <td>g</td>\n",
              "    </tr>\n",
              "  </tbody>\n",
              "</table>\n",
              "<p>15 rows × 22 columns</p>\n",
              "</div>\n",
              "      <button class=\"colab-df-convert\" onclick=\"convertToInteractive('df-ef325b46-9885-425d-a5a6-03cd3ea9a380')\"\n",
              "              title=\"Convert this dataframe to an interactive table.\"\n",
              "              style=\"display:none;\">\n",
              "        \n",
              "  <svg xmlns=\"http://www.w3.org/2000/svg\" height=\"24px\"viewBox=\"0 0 24 24\"\n",
              "       width=\"24px\">\n",
              "    <path d=\"M0 0h24v24H0V0z\" fill=\"none\"/>\n",
              "    <path d=\"M18.56 5.44l.94 2.06.94-2.06 2.06-.94-2.06-.94-.94-2.06-.94 2.06-2.06.94zm-11 1L8.5 8.5l.94-2.06 2.06-.94-2.06-.94L8.5 2.5l-.94 2.06-2.06.94zm10 10l.94 2.06.94-2.06 2.06-.94-2.06-.94-.94-2.06-.94 2.06-2.06.94z\"/><path d=\"M17.41 7.96l-1.37-1.37c-.4-.4-.92-.59-1.43-.59-.52 0-1.04.2-1.43.59L10.3 9.45l-7.72 7.72c-.78.78-.78 2.05 0 2.83L4 21.41c.39.39.9.59 1.41.59.51 0 1.02-.2 1.41-.59l7.78-7.78 2.81-2.81c.8-.78.8-2.07 0-2.86zM5.41 20L4 18.59l7.72-7.72 1.47 1.35L5.41 20z\"/>\n",
              "  </svg>\n",
              "      </button>\n",
              "      \n",
              "  <style>\n",
              "    .colab-df-container {\n",
              "      display:flex;\n",
              "      flex-wrap:wrap;\n",
              "      gap: 12px;\n",
              "    }\n",
              "\n",
              "    .colab-df-convert {\n",
              "      background-color: #E8F0FE;\n",
              "      border: none;\n",
              "      border-radius: 50%;\n",
              "      cursor: pointer;\n",
              "      display: none;\n",
              "      fill: #1967D2;\n",
              "      height: 32px;\n",
              "      padding: 0 0 0 0;\n",
              "      width: 32px;\n",
              "    }\n",
              "\n",
              "    .colab-df-convert:hover {\n",
              "      background-color: #E2EBFA;\n",
              "      box-shadow: 0px 1px 2px rgba(60, 64, 67, 0.3), 0px 1px 3px 1px rgba(60, 64, 67, 0.15);\n",
              "      fill: #174EA6;\n",
              "    }\n",
              "\n",
              "    [theme=dark] .colab-df-convert {\n",
              "      background-color: #3B4455;\n",
              "      fill: #D2E3FC;\n",
              "    }\n",
              "\n",
              "    [theme=dark] .colab-df-convert:hover {\n",
              "      background-color: #434B5C;\n",
              "      box-shadow: 0px 1px 3px 1px rgba(0, 0, 0, 0.15);\n",
              "      filter: drop-shadow(0px 1px 2px rgba(0, 0, 0, 0.3));\n",
              "      fill: #FFFFFF;\n",
              "    }\n",
              "  </style>\n",
              "\n",
              "      <script>\n",
              "        const buttonEl =\n",
              "          document.querySelector('#df-ef325b46-9885-425d-a5a6-03cd3ea9a380 button.colab-df-convert');\n",
              "        buttonEl.style.display =\n",
              "          google.colab.kernel.accessAllowed ? 'block' : 'none';\n",
              "\n",
              "        async function convertToInteractive(key) {\n",
              "          const element = document.querySelector('#df-ef325b46-9885-425d-a5a6-03cd3ea9a380');\n",
              "          const dataTable =\n",
              "            await google.colab.kernel.invokeFunction('convertToInteractive',\n",
              "                                                     [key], {});\n",
              "          if (!dataTable) return;\n",
              "\n",
              "          const docLinkHtml = 'Like what you see? Visit the ' +\n",
              "            '<a target=\"_blank\" href=https://colab.research.google.com/notebooks/data_table.ipynb>data table notebook</a>'\n",
              "            + ' to learn more about interactive tables.';\n",
              "          element.innerHTML = '';\n",
              "          dataTable['output_type'] = 'display_data';\n",
              "          await google.colab.output.renderOutput(dataTable, element);\n",
              "          const docLink = document.createElement('div');\n",
              "          docLink.innerHTML = docLinkHtml;\n",
              "          element.appendChild(docLink);\n",
              "        }\n",
              "      </script>\n",
              "    </div>\n",
              "  </div>\n",
              "  "
            ]
          },
          "metadata": {},
          "execution_count": 241
        }
      ]
    },
    {
      "cell_type": "code",
      "source": [
        "#the data set has 8124 instances or entries and the number of attribures are 22 all nominaly valued  \n",
        "#Our target is Class (binary) (e or p)\n",
        "df.info()"
      ],
      "metadata": {
        "colab": {
          "base_uri": "https://localhost:8080/"
        },
        "id": "jm1lZ67C4V90",
        "outputId": "60e26226-12d1-4865-d6de-1e9a39b4a976"
      },
      "execution_count": null,
      "outputs": [
        {
          "output_type": "stream",
          "name": "stdout",
          "text": [
            "<class 'pandas.core.frame.DataFrame'>\n",
            "RangeIndex: 8124 entries, 0 to 8123\n",
            "Data columns (total 23 columns):\n",
            " #   Column                    Non-Null Count  Dtype \n",
            "---  ------                    --------------  ----- \n",
            " 0   class                     8124 non-null   object\n",
            " 1   cap-shape                 8124 non-null   object\n",
            " 2   cap-surface               8124 non-null   object\n",
            " 3   cap-color                 8124 non-null   object\n",
            " 4   bruises                   8124 non-null   object\n",
            " 5   odor                      8124 non-null   object\n",
            " 6   gill-attachment           8124 non-null   object\n",
            " 7   gill-spacing              8124 non-null   object\n",
            " 8   gill-size                 8124 non-null   object\n",
            " 9   gill-color                8124 non-null   object\n",
            " 10  stalk-shape               8124 non-null   object\n",
            " 11  stalk-root                8124 non-null   object\n",
            " 12  stalk-surface-above-ring  8124 non-null   object\n",
            " 13  stalk-surface-below-ring  8124 non-null   object\n",
            " 14  stalk-color-above-ring    8124 non-null   object\n",
            " 15  stalk-color-below-ring    8124 non-null   object\n",
            " 16  veil-type                 8124 non-null   object\n",
            " 17  veil-color                8124 non-null   object\n",
            " 18  ring-number               8124 non-null   object\n",
            " 19  ring-type                 8124 non-null   object\n",
            " 20  spore-print-color         8124 non-null   object\n",
            " 21  population                8124 non-null   object\n",
            " 22  habitat                   8124 non-null   object\n",
            "dtypes: object(23)\n",
            "memory usage: 1.4+ MB\n"
          ]
        }
      ]
    },
    {
      "cell_type": "code",
      "source": [
        "#Apparently there is not null values \n",
        "df.isnull().sum()"
      ],
      "metadata": {
        "colab": {
          "base_uri": "https://localhost:8080/"
        },
        "id": "Zd2XeShD4g9_",
        "outputId": "fad3409a-55b7-4bb6-bb8b-af3d45be0b67"
      },
      "execution_count": null,
      "outputs": [
        {
          "output_type": "execute_result",
          "data": {
            "text/plain": [
              "class                       0\n",
              "cap-shape                   0\n",
              "cap-surface                 0\n",
              "cap-color                   0\n",
              "bruises                     0\n",
              "odor                        0\n",
              "gill-attachment             0\n",
              "gill-spacing                0\n",
              "gill-size                   0\n",
              "gill-color                  0\n",
              "stalk-shape                 0\n",
              "stalk-root                  0\n",
              "stalk-surface-above-ring    0\n",
              "stalk-surface-below-ring    0\n",
              "stalk-color-above-ring      0\n",
              "stalk-color-below-ring      0\n",
              "veil-type                   0\n",
              "veil-color                  0\n",
              "ring-number                 0\n",
              "ring-type                   0\n",
              "spore-print-color           0\n",
              "population                  0\n",
              "habitat                     0\n",
              "dtype: int64"
            ]
          },
          "metadata": {},
          "execution_count": 204
        }
      ]
    },
    {
      "cell_type": "code",
      "source": [
        "#After doing a close inspection we found: \n",
        "#2480 values of the stalk-root attribute are (denoted by \"?\")\n",
        "# so the best way to deal with them is to delete the column \n",
        "df['stalk-root'].unique()"
      ],
      "metadata": {
        "colab": {
          "base_uri": "https://localhost:8080/"
        },
        "id": "eLyYINNRiZJX",
        "outputId": "972cffa1-fb52-4671-9947-530702a6b535"
      },
      "execution_count": null,
      "outputs": [
        {
          "output_type": "execute_result",
          "data": {
            "text/plain": [
              "array(['e', 'c', 'b', 'r', '?'], dtype=object)"
            ]
          },
          "metadata": {},
          "execution_count": 205
        }
      ]
    },
    {
      "cell_type": "code",
      "source": [
        "#Drop stalk-root variable\n",
        "df=df.drop(columns=['stalk-root'])"
      ],
      "metadata": {
        "id": "NwNaNH8_kC8v"
      },
      "execution_count": null,
      "outputs": []
    },
    {
      "cell_type": "code",
      "source": [
        "df.info()"
      ],
      "metadata": {
        "id": "M0Ux0IM48lmS",
        "outputId": "faafa1af-6cc3-410c-b6fb-2d6838d25385",
        "colab": {
          "base_uri": "https://localhost:8080/"
        }
      },
      "execution_count": null,
      "outputs": [
        {
          "output_type": "stream",
          "name": "stdout",
          "text": [
            "<class 'pandas.core.frame.DataFrame'>\n",
            "RangeIndex: 8124 entries, 0 to 8123\n",
            "Data columns (total 22 columns):\n",
            " #   Column                    Non-Null Count  Dtype \n",
            "---  ------                    --------------  ----- \n",
            " 0   class                     8124 non-null   object\n",
            " 1   cap-shape                 8124 non-null   object\n",
            " 2   cap-surface               8124 non-null   object\n",
            " 3   cap-color                 8124 non-null   object\n",
            " 4   bruises                   8124 non-null   object\n",
            " 5   odor                      8124 non-null   object\n",
            " 6   gill-attachment           8124 non-null   object\n",
            " 7   gill-spacing              8124 non-null   object\n",
            " 8   gill-size                 8124 non-null   object\n",
            " 9   gill-color                8124 non-null   object\n",
            " 10  stalk-shape               8124 non-null   object\n",
            " 11  stalk-surface-above-ring  8124 non-null   object\n",
            " 12  stalk-surface-below-ring  8124 non-null   object\n",
            " 13  stalk-color-above-ring    8124 non-null   object\n",
            " 14  stalk-color-below-ring    8124 non-null   object\n",
            " 15  veil-type                 8124 non-null   object\n",
            " 16  veil-color                8124 non-null   object\n",
            " 17  ring-number               8124 non-null   object\n",
            " 18  ring-type                 8124 non-null   object\n",
            " 19  spore-print-color         8124 non-null   object\n",
            " 20  population                8124 non-null   object\n",
            " 21  habitat                   8124 non-null   object\n",
            "dtypes: object(22)\n",
            "memory usage: 1.4+ MB\n"
          ]
        }
      ]
    },
    {
      "cell_type": "markdown",
      "source": [
        "# Graphic exploration"
      ],
      "metadata": {
        "id": "BmmzsB9WksuU"
      }
    },
    {
      "cell_type": "code",
      "source": [
        "Class = df[\"class\"].value_counts()\n"
      ],
      "metadata": {
        "id": "7PlvMgJi8SbR"
      },
      "execution_count": null,
      "outputs": []
    },
    {
      "cell_type": "code",
      "source": [
        "#In this plot we can see the count of the two classes Edible/Poisonous\n",
        "#we can see that the edible class a little more values than the poisson's class \n",
        "#so our data set is not balanced"
      ],
      "metadata": {
        "id": "tBkxp1bmoaqa"
      },
      "execution_count": null,
      "outputs": []
    },
    {
      "cell_type": "code",
      "source": [
        "sns.set_theme(style=\"ticks\", palette=\"pastel\")\n",
        "Class = df[\"class\"].value_counts()\n",
        "sns.barplot(x =Class.index, y = Class)"
      ],
      "metadata": {
        "colab": {
          "base_uri": "https://localhost:8080/"
        },
        "id": "637eENkk8XwO",
        "outputId": "ad18c825-e918-4165-e649-9b88a764dabe"
      },
      "execution_count": null,
      "outputs": [
        {
          "output_type": "execute_result",
          "data": {
            "text/plain": [
              "<matplotlib.axes._subplots.AxesSubplot at 0x7fd2391a4dc0>"
            ]
          },
          "metadata": {},
          "execution_count": 210
        },
        {
          "output_type": "display_data",
          "data": {
            "text/plain": [
              "<Figure size 432x288 with 1 Axes>"
            ],
            "image/png": "[encoded data removed]"
          },
          "metadata": {}
        }
      ]
    },
    {
      "cell_type": "code",
      "source": [],
      "metadata": {
        "id": "NaAEsqw7pI1f"
      },
      "execution_count": null,
      "outputs": []
    },
    {
      "cell_type": "code",
      "source": [
        "#This plot shows the distribution of the cap shape, here we can see there is 6 different types of shapes\n",
        "# but two of them are the ones who present more values in the data set this are: X and F that correspond to \n",
        "# convex=x and flat=f"
      ],
      "metadata": {
        "id": "rI-vDDBJopCg"
      },
      "execution_count": null,
      "outputs": []
    },
    {
      "cell_type": "code",
      "source": [
        "sns.set_theme(style=\"ticks\", palette=\"pastel\")\n",
        "cap = df[\"cap-shape\"].value_counts()\n",
        "sns.barplot(x =cap.index, y = cap)\n"
      ],
      "metadata": {
        "colab": {
          "base_uri": "https://localhost:8080/"
        },
        "id": "-8ALlrRB9hB3",
        "outputId": "78e927be-d886-4bac-a8c5-34c854ead2bb"
      },
      "execution_count": null,
      "outputs": [
        {
          "output_type": "execute_result",
          "data": {
            "text/plain": [
              "<matplotlib.axes._subplots.AxesSubplot at 0x7fd23916b3d0>"
            ]
          },
          "metadata": {},
          "execution_count": 212
        },
        {
          "output_type": "display_data",
          "data": {
            "text/plain": [
              "<Figure size 432x288 with 1 Axes>"
            ],
            "image/png": "[encoded data removed]"
          },
          "metadata": {}
        }
      ]
    },
    {
      "cell_type": "code",
      "source": [
        "#This plot shows the distribution of the mushrooms habitat, here we can see 7 different types of habitat\n",
        "# but two of them are the ones who present more values in the data set this are: d and g that correspond to \n",
        "# d=woods and g=grasses\n"
      ],
      "metadata": {
        "id": "f-0oc39MerGj"
      },
      "execution_count": null,
      "outputs": []
    },
    {
      "cell_type": "code",
      "source": [
        "sns.set_theme(style=\"ticks\", palette=\"pastel\")\n",
        "\n",
        "habitat = df[\"habitat\"].value_counts()\n",
        "sns.barplot(x =habitat.index, y = habitat)"
      ],
      "metadata": {
        "colab": {
          "base_uri": "https://localhost:8080/"
        },
        "id": "fk0fSxi2-Cpx",
        "outputId": "46f6ec03-2228-4d74-8b93-f0e5672ed174"
      },
      "execution_count": null,
      "outputs": [
        {
          "output_type": "execute_result",
          "data": {
            "text/plain": [
              "<matplotlib.axes._subplots.AxesSubplot at 0x7fd2390efa90>"
            ]
          },
          "metadata": {},
          "execution_count": 213
        },
        {
          "output_type": "display_data",
          "data": {
            "text/plain": [
              "<Figure size 432x288 with 1 Axes>"
            ],
            "image/png": "[encoded data removed]"
          },
          "metadata": {}
        }
      ]
    },
    {
      "cell_type": "code",
      "source": [
        "#Other important characteristics to define a mushrooms is edible or poisonous is the spore print color \n",
        "#in this plot we can see that the color who present more number of individuals are w=white with at least 2400 individuals\n"
      ],
      "metadata": {
        "id": "wui1JDp7fcNG"
      },
      "execution_count": null,
      "outputs": []
    },
    {
      "cell_type": "code",
      "source": [
        "sns.set_theme(style=\"ticks\", palette=\"pastel\")\n",
        "\n",
        "sporecolor = df[\"spore-print-color\"].value_counts()\n",
        "sns.barplot(x =sporecolor.index, y = sporecolor)\n"
      ],
      "metadata": {
        "colab": {
          "base_uri": "https://localhost:8080/"
        },
        "id": "FkUuXsABAykV",
        "outputId": "3d544c3c-6638-438c-8a86-0961e2b9cf03"
      },
      "execution_count": null,
      "outputs": [
        {
          "output_type": "execute_result",
          "data": {
            "text/plain": [
              "<matplotlib.axes._subplots.AxesSubplot at 0x7fd238fb6a60>"
            ]
          },
          "metadata": {},
          "execution_count": 215
        },
        {
          "output_type": "display_data",
          "data": {
            "text/plain": [
              "<Figure size 432x288 with 1 Axes>"
            ],
            "image/png": "[encoded data removed]"
          },
          "metadata": {}
        }
      ]
    },
    {
      "cell_type": "markdown",
      "source": [
        "# Preprocessing"
      ],
      "metadata": {
        "id": "jonbOeP9T551"
      }
    },
    {
      "cell_type": "code",
      "source": [
        "#drop class column \n",
        "X = df.drop(columns=['class'])\n",
        "#Define our target column \n",
        "y = df['class']"
      ],
      "metadata": {
        "id": "sUQCHmCkCSes"
      },
      "execution_count": null,
      "outputs": []
    },
    {
      "cell_type": "code",
      "source": [
        "#train test split\n",
        "X_train, X_test, y_train, y_test = train_test_split(X, y, test_size=0.1, random_state = 42)"
      ],
      "metadata": {
        "id": "cbX_VMSXC2iR"
      },
      "execution_count": null,
      "outputs": []
    },
    {
      "cell_type": "code",
      "source": [
        "#Inicializar transformadores\n",
        "\n",
        "ohe = OneHotEncoder(handle_unknown=\"ignore\", sparse=False)"
      ],
      "metadata": {
        "id": "rNEWrhbUC4un"
      },
      "execution_count": null,
      "outputs": []
    },
    {
      "cell_type": "code",
      "source": [
        "#Inicializar pipelines \n",
        "\n",
        "nom_cat_pipe = make_pipeline(ohe)"
      ],
      "metadata": {
        "id": "5ej3RSjBC7_n"
      },
      "execution_count": null,
      "outputs": []
    },
    {
      "cell_type": "code",
      "source": [
        "nom_tuple = (nom_cat_pipe, [\"cap-shape\",\"cap-surface\", \"cap-color\",'bruises','odor','gill-attachment','gill-spacing',\n",
        "                   'gill-spacing','gill-size',   'gill-color','stalk-shape'  ,'stalk-surface-above-ring',\n",
        "                   'stalk-surface-below-ring', 'stalk-color-above-ring'  , 'stalk-color-below-ring', \n",
        "                   'veil-type',  'veil-color', 'ring-number',   'ring-type',  'spore-print-color', 'population',  'habitat'   ])"
      ],
      "metadata": {
        "id": "OtWW1ppvDCQ3"
      },
      "execution_count": null,
      "outputs": []
    },
    {
      "cell_type": "code",
      "source": [
        "#Inicializar las columnas transformer\n",
        "preprocessor = make_column_transformer( nom_tuple)\n",
        "preprocessor"
      ],
      "metadata": {
        "colab": {
          "base_uri": "https://localhost:8080/",
          "height": 118
        },
        "id": "FHmKAX23DrSv",
        "outputId": "3f22ae74-3529-41f0-9a65-88d6130496c0"
      },
      "execution_count": null,
      "outputs": [
        {
          "output_type": "execute_result",
          "data": {
            "text/plain": [
              "ColumnTransformer(transformers=[('pipeline',\n",
              "                                 Pipeline(steps=[('onehotencoder',\n",
              "                                                  OneHotEncoder(handle_unknown='ignore',\n",
              "                                                                sparse=False))]),\n",
              "                                 ['cap-shape', 'cap-surface', 'cap-color',\n",
              "                                  'bruises', 'odor', 'gill-attachment',\n",
              "                                  'gill-spacing', 'gill-spacing', 'gill-size',\n",
              "                                  'gill-color', 'stalk-shape',\n",
              "                                  'stalk-surface-above-ring',\n",
              "                                  'stalk-surface-below-ring',\n",
              "                                  'stalk-color-above-ring',\n",
              "                                  'stalk-color-below-ring', 'veil-type',\n",
              "                                  'veil-color', 'ring-number', 'ring-type',\n",
              "                                  'spore-print-color', 'population',\n",
              "                                  'habitat'])])"
            ],
            "text/html": [
              "<style>#sk-32db38ca-97cd-453d-909c-895eefd02377 {color: black;background-color: white;}#sk-32db38ca-97cd-453d-909c-895eefd02377 pre{padding: 0;}#sk-32db38ca-97cd-453d-909c-895eefd02377 div.sk-toggleable {background-color: white;}#sk-32db38ca-97cd-453d-909c-895eefd02377 label.sk-toggleable__label {cursor: pointer;display: block;width: 100%;margin-bottom: 0;padding: 0.3em;box-sizing: border-box;text-align: center;}#sk-32db38ca-97cd-453d-909c-895eefd02377 label.sk-toggleable__label-arrow:before {content: \"▸\";float: left;margin-right: 0.25em;color: #696969;}#sk-32db38ca-97cd-453d-909c-895eefd02377 label.sk-toggleable__label-arrow:hover:before {color: black;}#sk-32db38ca-97cd-453d-909c-895eefd02377 div.sk-estimator:hover label.sk-toggleable__label-arrow:before {color: black;}#sk-32db38ca-97cd-453d-909c-895eefd02377 div.sk-toggleable__content {max-height: 0;max-width: 0;overflow: hidden;text-align: left;background-color: #f0f8ff;}#sk-32db38ca-97cd-453d-909c-895eefd02377 div.sk-toggleable__content pre {margin: 0.2em;color: black;border-radius: 0.25em;background-color: #f0f8ff;}#sk-32db38ca-97cd-453d-909c-895eefd02377 input.sk-toggleable__control:checked~div.sk-toggleable__content {max-height: 200px;max-width: 100%;overflow: auto;}#sk-32db38ca-97cd-453d-909c-895eefd02377 input.sk-toggleable__control:checked~label.sk-toggleable__label-arrow:before {content: \"▾\";}#sk-32db38ca-97cd-453d-909c-895eefd02377 div.sk-estimator input.sk-toggleable__control:checked~label.sk-toggleable__label {background-color: #d4ebff;}#sk-32db38ca-97cd-453d-909c-895eefd02377 div.sk-label input.sk-toggleable__control:checked~label.sk-toggleable__label {background-color: #d4ebff;}#sk-32db38ca-97cd-453d-909c-895eefd02377 input.sk-hidden--visually {border: 0;clip: rect(1px 1px 1px 1px);clip: rect(1px, 1px, 1px, 1px);height: 1px;margin: -1px;overflow: hidden;padding: 0;position: absolute;width: 1px;}#sk-32db38ca-97cd-453d-909c-895eefd02377 div.sk-estimator {font-family: monospace;background-color: #f0f8ff;border: 1px dotted black;border-radius: 0.25em;box-sizing: border-box;margin-bottom: 0.5em;}#sk-32db38ca-97cd-453d-909c-895eefd02377 div.sk-estimator:hover {background-color: #d4ebff;}#sk-32db38ca-97cd-453d-909c-895eefd02377 div.sk-parallel-item::after {content: \"\";width: 100%;border-bottom: 1px solid gray;flex-grow: 1;}#sk-32db38ca-97cd-453d-909c-895eefd02377 div.sk-label:hover label.sk-toggleable__label {background-color: #d4ebff;}#sk-32db38ca-97cd-453d-909c-895eefd02377 div.sk-serial::before {content: \"\";position: absolute;border-left: 1px solid gray;box-sizing: border-box;top: 2em;bottom: 0;left: 50%;}#sk-32db38ca-97cd-453d-909c-895eefd02377 div.sk-serial {display: flex;flex-direction: column;align-items: center;background-color: white;padding-right: 0.2em;padding-left: 0.2em;}#sk-32db38ca-97cd-453d-909c-895eefd02377 div.sk-item {z-index: 1;}#sk-32db38ca-97cd-453d-909c-895eefd02377 div.sk-parallel {display: flex;align-items: stretch;justify-content: center;background-color: white;}#sk-32db38ca-97cd-453d-909c-895eefd02377 div.sk-parallel::before {content: \"\";position: absolute;border-left: 1px solid gray;box-sizing: border-box;top: 2em;bottom: 0;left: 50%;}#sk-32db38ca-97cd-453d-909c-895eefd02377 div.sk-parallel-item {display: flex;flex-direction: column;position: relative;background-color: white;}#sk-32db38ca-97cd-453d-909c-895eefd02377 div.sk-parallel-item:first-child::after {align-self: flex-end;width: 50%;}#sk-32db38ca-97cd-453d-909c-895eefd02377 div.sk-parallel-item:last-child::after {align-self: flex-start;width: 50%;}#sk-32db38ca-97cd-453d-909c-895eefd02377 div.sk-parallel-item:only-child::after {width: 0;}#sk-32db38ca-97cd-453d-909c-895eefd02377 div.sk-dashed-wrapped {border: 1px dashed gray;margin: 0 0.4em 0.5em 0.4em;box-sizing: border-box;padding-bottom: 0.4em;background-color: white;position: relative;}#sk-32db38ca-97cd-453d-909c-895eefd02377 div.sk-label label {font-family: monospace;font-weight: bold;background-color: white;display: inline-block;line-height: 1.2em;}#sk-32db38ca-97cd-453d-909c-895eefd02377 div.sk-label-container {position: relative;z-index: 2;text-align: center;}#sk-32db38ca-97cd-453d-909c-895eefd02377 div.sk-container {/* jupyter's `normalize.less` sets `[hidden] { display: none; }` but bootstrap.min.css set `[hidden] { display: none !important; }` so we also need the `!important` here to be able to override the default hidden behavior on the sphinx rendered scikit-learn.org. See: https://github.com/scikit-learn/scikit-learn/issues/21755 */display: inline-block !important;position: relative;}#sk-32db38ca-97cd-453d-909c-895eefd02377 div.sk-text-repr-fallback {display: none;}</style><div id=\"sk-32db38ca-97cd-453d-909c-895eefd02377\" class=\"sk-top-container\"><div class=\"sk-text-repr-fallback\"><pre>ColumnTransformer(transformers=[(&#x27;pipeline&#x27;,\n",
              "                                 Pipeline(steps=[(&#x27;onehotencoder&#x27;,\n",
              "                                                  OneHotEncoder(handle_unknown=&#x27;ignore&#x27;,\n",
              "                                                                sparse=False))]),\n",
              "                                 [&#x27;cap-shape&#x27;, &#x27;cap-surface&#x27;, &#x27;cap-color&#x27;,\n",
              "                                  &#x27;bruises&#x27;, &#x27;odor&#x27;, &#x27;gill-attachment&#x27;,\n",
              "                                  &#x27;gill-spacing&#x27;, &#x27;gill-spacing&#x27;, &#x27;gill-size&#x27;,\n",
              "                                  &#x27;gill-color&#x27;, &#x27;stalk-shape&#x27;,\n",
              "                                  &#x27;stalk-surface-above-ring&#x27;,\n",
              "                                  &#x27;stalk-surface-below-ring&#x27;,\n",
              "                                  &#x27;stalk-color-above-ring&#x27;,\n",
              "                                  &#x27;stalk-color-below-ring&#x27;, &#x27;veil-type&#x27;,\n",
              "                                  &#x27;veil-color&#x27;, &#x27;ring-number&#x27;, &#x27;ring-type&#x27;,\n",
              "                                  &#x27;spore-print-color&#x27;, &#x27;population&#x27;,\n",
              "                                  &#x27;habitat&#x27;])])</pre><b>Please rerun this cell to show the HTML repr or trust the notebook.</b></div><div class=\"sk-container\" hidden><div class=\"sk-item sk-dashed-wrapped\"><div class=\"sk-label-container\"><div class=\"sk-label sk-toggleable\"><input class=\"sk-toggleable__control sk-hidden--visually\" id=\"dce85d83-9e25-4603-9aa7-6c26e4cdae11\" type=\"checkbox\" ><label for=\"dce85d83-9e25-4603-9aa7-6c26e4cdae11\" class=\"sk-toggleable__label sk-toggleable__label-arrow\">ColumnTransformer</label><div class=\"sk-toggleable__content\"><pre>ColumnTransformer(transformers=[(&#x27;pipeline&#x27;,\n",
              "                                 Pipeline(steps=[(&#x27;onehotencoder&#x27;,\n",
              "                                                  OneHotEncoder(handle_unknown=&#x27;ignore&#x27;,\n",
              "                                                                sparse=False))]),\n",
              "                                 [&#x27;cap-shape&#x27;, &#x27;cap-surface&#x27;, &#x27;cap-color&#x27;,\n",
              "                                  &#x27;bruises&#x27;, &#x27;odor&#x27;, &#x27;gill-attachment&#x27;,\n",
              "                                  &#x27;gill-spacing&#x27;, &#x27;gill-spacing&#x27;, &#x27;gill-size&#x27;,\n",
              "                                  &#x27;gill-color&#x27;, &#x27;stalk-shape&#x27;,\n",
              "                                  &#x27;stalk-surface-above-ring&#x27;,\n",
              "                                  &#x27;stalk-surface-below-ring&#x27;,\n",
              "                                  &#x27;stalk-color-above-ring&#x27;,\n",
              "                                  &#x27;stalk-color-below-ring&#x27;, &#x27;veil-type&#x27;,\n",
              "                                  &#x27;veil-color&#x27;, &#x27;ring-number&#x27;, &#x27;ring-type&#x27;,\n",
              "                                  &#x27;spore-print-color&#x27;, &#x27;population&#x27;,\n",
              "                                  &#x27;habitat&#x27;])])</pre></div></div></div><div class=\"sk-parallel\"><div class=\"sk-parallel-item\"><div class=\"sk-item\"><div class=\"sk-label-container\"><div class=\"sk-label sk-toggleable\"><input class=\"sk-toggleable__control sk-hidden--visually\" id=\"60dd0e70-b837-45b4-a73f-e4ad6066f042\" type=\"checkbox\" ><label for=\"60dd0e70-b837-45b4-a73f-e4ad6066f042\" class=\"sk-toggleable__label sk-toggleable__label-arrow\">pipeline</label><div class=\"sk-toggleable__content\"><pre>[&#x27;cap-shape&#x27;, &#x27;cap-surface&#x27;, &#x27;cap-color&#x27;, &#x27;bruises&#x27;, &#x27;odor&#x27;, &#x27;gill-attachment&#x27;, &#x27;gill-spacing&#x27;, &#x27;gill-spacing&#x27;, &#x27;gill-size&#x27;, &#x27;gill-color&#x27;, &#x27;stalk-shape&#x27;, &#x27;stalk-surface-above-ring&#x27;, &#x27;stalk-surface-below-ring&#x27;, &#x27;stalk-color-above-ring&#x27;, &#x27;stalk-color-below-ring&#x27;, &#x27;veil-type&#x27;, &#x27;veil-color&#x27;, &#x27;ring-number&#x27;, &#x27;ring-type&#x27;, &#x27;spore-print-color&#x27;, &#x27;population&#x27;, &#x27;habitat&#x27;]</pre></div></div></div><div class=\"sk-serial\"><div class=\"sk-item\"><div class=\"sk-serial\"><div class=\"sk-item\"><div class=\"sk-estimator sk-toggleable\"><input class=\"sk-toggleable__control sk-hidden--visually\" id=\"1864d0be-f9b0-4a91-b20b-64f285532779\" type=\"checkbox\" ><label for=\"1864d0be-f9b0-4a91-b20b-64f285532779\" class=\"sk-toggleable__label sk-toggleable__label-arrow\">OneHotEncoder</label><div class=\"sk-toggleable__content\"><pre>OneHotEncoder(handle_unknown=&#x27;ignore&#x27;, sparse=False)</pre></div></div></div></div></div></div></div></div></div></div></div></div>"
            ]
          },
          "metadata": {},
          "execution_count": 221
        }
      ]
    },
    {
      "cell_type": "code",
      "source": [
        "preprocessor.fit(X_train)"
      ],
      "metadata": {
        "colab": {
          "base_uri": "https://localhost:8080/",
          "height": 118
        },
        "id": "IdUQPqS8Dx-J",
        "outputId": "6e18a111-cebc-4782-eb6c-95c1fe6ee5d4"
      },
      "execution_count": null,
      "outputs": [
        {
          "output_type": "execute_result",
          "data": {
            "text/plain": [
              "ColumnTransformer(transformers=[('pipeline',\n",
              "                                 Pipeline(steps=[('onehotencoder',\n",
              "                                                  OneHotEncoder(handle_unknown='ignore',\n",
              "                                                                sparse=False))]),\n",
              "                                 ['cap-shape', 'cap-surface', 'cap-color',\n",
              "                                  'bruises', 'odor', 'gill-attachment',\n",
              "                                  'gill-spacing', 'gill-spacing', 'gill-size',\n",
              "                                  'gill-color', 'stalk-shape',\n",
              "                                  'stalk-surface-above-ring',\n",
              "                                  'stalk-surface-below-ring',\n",
              "                                  'stalk-color-above-ring',\n",
              "                                  'stalk-color-below-ring', 'veil-type',\n",
              "                                  'veil-color', 'ring-number', 'ring-type',\n",
              "                                  'spore-print-color', 'population',\n",
              "                                  'habitat'])])"
            ],
            "text/html": [
              "<style>#sk-287e8f44-e129-4755-aa9c-ebc2b7eccccf {color: black;background-color: white;}#sk-287e8f44-e129-4755-aa9c-ebc2b7eccccf pre{padding: 0;}#sk-287e8f44-e129-4755-aa9c-ebc2b7eccccf div.sk-toggleable {background-color: white;}#sk-287e8f44-e129-4755-aa9c-ebc2b7eccccf label.sk-toggleable__label {cursor: pointer;display: block;width: 100%;margin-bottom: 0;padding: 0.3em;box-sizing: border-box;text-align: center;}#sk-287e8f44-e129-4755-aa9c-ebc2b7eccccf label.sk-toggleable__label-arrow:before {content: \"▸\";float: left;margin-right: 0.25em;color: #696969;}#sk-287e8f44-e129-4755-aa9c-ebc2b7eccccf label.sk-toggleable__label-arrow:hover:before {color: black;}#sk-287e8f44-e129-4755-aa9c-ebc2b7eccccf div.sk-estimator:hover label.sk-toggleable__label-arrow:before {color: black;}#sk-287e8f44-e129-4755-aa9c-ebc2b7eccccf div.sk-toggleable__content {max-height: 0;max-width: 0;overflow: hidden;text-align: left;background-color: #f0f8ff;}#sk-287e8f44-e129-4755-aa9c-ebc2b7eccccf div.sk-toggleable__content pre {margin: 0.2em;color: black;border-radius: 0.25em;background-color: #f0f8ff;}#sk-287e8f44-e129-4755-aa9c-ebc2b7eccccf input.sk-toggleable__control:checked~div.sk-toggleable__content {max-height: 200px;max-width: 100%;overflow: auto;}#sk-287e8f44-e129-4755-aa9c-ebc2b7eccccf input.sk-toggleable__control:checked~label.sk-toggleable__label-arrow:before {content: \"▾\";}#sk-287e8f44-e129-4755-aa9c-ebc2b7eccccf div.sk-estimator input.sk-toggleable__control:checked~label.sk-toggleable__label {background-color: #d4ebff;}#sk-287e8f44-e129-4755-aa9c-ebc2b7eccccf div.sk-label input.sk-toggleable__control:checked~label.sk-toggleable__label {background-color: #d4ebff;}#sk-287e8f44-e129-4755-aa9c-ebc2b7eccccf input.sk-hidden--visually {border: 0;clip: rect(1px 1px 1px 1px);clip: rect(1px, 1px, 1px, 1px);height: 1px;margin: -1px;overflow: hidden;padding: 0;position: absolute;width: 1px;}#sk-287e8f44-e129-4755-aa9c-ebc2b7eccccf div.sk-estimator {font-family: monospace;background-color: #f0f8ff;border: 1px dotted black;border-radius: 0.25em;box-sizing: border-box;margin-bottom: 0.5em;}#sk-287e8f44-e129-4755-aa9c-ebc2b7eccccf div.sk-estimator:hover {background-color: #d4ebff;}#sk-287e8f44-e129-4755-aa9c-ebc2b7eccccf div.sk-parallel-item::after {content: \"\";width: 100%;border-bottom: 1px solid gray;flex-grow: 1;}#sk-287e8f44-e129-4755-aa9c-ebc2b7eccccf div.sk-label:hover label.sk-toggleable__label {background-color: #d4ebff;}#sk-287e8f44-e129-4755-aa9c-ebc2b7eccccf div.sk-serial::before {content: \"\";position: absolute;border-left: 1px solid gray;box-sizing: border-box;top: 2em;bottom: 0;left: 50%;}#sk-287e8f44-e129-4755-aa9c-ebc2b7eccccf div.sk-serial {display: flex;flex-direction: column;align-items: center;background-color: white;padding-right: 0.2em;padding-left: 0.2em;}#sk-287e8f44-e129-4755-aa9c-ebc2b7eccccf div.sk-item {z-index: 1;}#sk-287e8f44-e129-4755-aa9c-ebc2b7eccccf div.sk-parallel {display: flex;align-items: stretch;justify-content: center;background-color: white;}#sk-287e8f44-e129-4755-aa9c-ebc2b7eccccf div.sk-parallel::before {content: \"\";position: absolute;border-left: 1px solid gray;box-sizing: border-box;top: 2em;bottom: 0;left: 50%;}#sk-287e8f44-e129-4755-aa9c-ebc2b7eccccf div.sk-parallel-item {display: flex;flex-direction: column;position: relative;background-color: white;}#sk-287e8f44-e129-4755-aa9c-ebc2b7eccccf div.sk-parallel-item:first-child::after {align-self: flex-end;width: 50%;}#sk-287e8f44-e129-4755-aa9c-ebc2b7eccccf div.sk-parallel-item:last-child::after {align-self: flex-start;width: 50%;}#sk-287e8f44-e129-4755-aa9c-ebc2b7eccccf div.sk-parallel-item:only-child::after {width: 0;}#sk-287e8f44-e129-4755-aa9c-ebc2b7eccccf div.sk-dashed-wrapped {border: 1px dashed gray;margin: 0 0.4em 0.5em 0.4em;box-sizing: border-box;padding-bottom: 0.4em;background-color: white;position: relative;}#sk-287e8f44-e129-4755-aa9c-ebc2b7eccccf div.sk-label label {font-family: monospace;font-weight: bold;background-color: white;display: inline-block;line-height: 1.2em;}#sk-287e8f44-e129-4755-aa9c-ebc2b7eccccf div.sk-label-container {position: relative;z-index: 2;text-align: center;}#sk-287e8f44-e129-4755-aa9c-ebc2b7eccccf div.sk-container {/* jupyter's `normalize.less` sets `[hidden] { display: none; }` but bootstrap.min.css set `[hidden] { display: none !important; }` so we also need the `!important` here to be able to override the default hidden behavior on the sphinx rendered scikit-learn.org. See: https://github.com/scikit-learn/scikit-learn/issues/21755 */display: inline-block !important;position: relative;}#sk-287e8f44-e129-4755-aa9c-ebc2b7eccccf div.sk-text-repr-fallback {display: none;}</style><div id=\"sk-287e8f44-e129-4755-aa9c-ebc2b7eccccf\" class=\"sk-top-container\"><div class=\"sk-text-repr-fallback\"><pre>ColumnTransformer(transformers=[(&#x27;pipeline&#x27;,\n",
              "                                 Pipeline(steps=[(&#x27;onehotencoder&#x27;,\n",
              "                                                  OneHotEncoder(handle_unknown=&#x27;ignore&#x27;,\n",
              "                                                                sparse=False))]),\n",
              "                                 [&#x27;cap-shape&#x27;, &#x27;cap-surface&#x27;, &#x27;cap-color&#x27;,\n",
              "                                  &#x27;bruises&#x27;, &#x27;odor&#x27;, &#x27;gill-attachment&#x27;,\n",
              "                                  &#x27;gill-spacing&#x27;, &#x27;gill-spacing&#x27;, &#x27;gill-size&#x27;,\n",
              "                                  &#x27;gill-color&#x27;, &#x27;stalk-shape&#x27;,\n",
              "                                  &#x27;stalk-surface-above-ring&#x27;,\n",
              "                                  &#x27;stalk-surface-below-ring&#x27;,\n",
              "                                  &#x27;stalk-color-above-ring&#x27;,\n",
              "                                  &#x27;stalk-color-below-ring&#x27;, &#x27;veil-type&#x27;,\n",
              "                                  &#x27;veil-color&#x27;, &#x27;ring-number&#x27;, &#x27;ring-type&#x27;,\n",
              "                                  &#x27;spore-print-color&#x27;, &#x27;population&#x27;,\n",
              "                                  &#x27;habitat&#x27;])])</pre><b>Please rerun this cell to show the HTML repr or trust the notebook.</b></div><div class=\"sk-container\" hidden><div class=\"sk-item sk-dashed-wrapped\"><div class=\"sk-label-container\"><div class=\"sk-label sk-toggleable\"><input class=\"sk-toggleable__control sk-hidden--visually\" id=\"173984e2-a959-4209-ab7f-4709aa5adfb2\" type=\"checkbox\" ><label for=\"173984e2-a959-4209-ab7f-4709aa5adfb2\" class=\"sk-toggleable__label sk-toggleable__label-arrow\">ColumnTransformer</label><div class=\"sk-toggleable__content\"><pre>ColumnTransformer(transformers=[(&#x27;pipeline&#x27;,\n",
              "                                 Pipeline(steps=[(&#x27;onehotencoder&#x27;,\n",
              "                                                  OneHotEncoder(handle_unknown=&#x27;ignore&#x27;,\n",
              "                                                                sparse=False))]),\n",
              "                                 [&#x27;cap-shape&#x27;, &#x27;cap-surface&#x27;, &#x27;cap-color&#x27;,\n",
              "                                  &#x27;bruises&#x27;, &#x27;odor&#x27;, &#x27;gill-attachment&#x27;,\n",
              "                                  &#x27;gill-spacing&#x27;, &#x27;gill-spacing&#x27;, &#x27;gill-size&#x27;,\n",
              "                                  &#x27;gill-color&#x27;, &#x27;stalk-shape&#x27;,\n",
              "                                  &#x27;stalk-surface-above-ring&#x27;,\n",
              "                                  &#x27;stalk-surface-below-ring&#x27;,\n",
              "                                  &#x27;stalk-color-above-ring&#x27;,\n",
              "                                  &#x27;stalk-color-below-ring&#x27;, &#x27;veil-type&#x27;,\n",
              "                                  &#x27;veil-color&#x27;, &#x27;ring-number&#x27;, &#x27;ring-type&#x27;,\n",
              "                                  &#x27;spore-print-color&#x27;, &#x27;population&#x27;,\n",
              "                                  &#x27;habitat&#x27;])])</pre></div></div></div><div class=\"sk-parallel\"><div class=\"sk-parallel-item\"><div class=\"sk-item\"><div class=\"sk-label-container\"><div class=\"sk-label sk-toggleable\"><input class=\"sk-toggleable__control sk-hidden--visually\" id=\"78fb7ad8-822a-4385-a79f-913ee6aaaab5\" type=\"checkbox\" ><label for=\"78fb7ad8-822a-4385-a79f-913ee6aaaab5\" class=\"sk-toggleable__label sk-toggleable__label-arrow\">pipeline</label><div class=\"sk-toggleable__content\"><pre>[&#x27;cap-shape&#x27;, &#x27;cap-surface&#x27;, &#x27;cap-color&#x27;, &#x27;bruises&#x27;, &#x27;odor&#x27;, &#x27;gill-attachment&#x27;, &#x27;gill-spacing&#x27;, &#x27;gill-spacing&#x27;, &#x27;gill-size&#x27;, &#x27;gill-color&#x27;, &#x27;stalk-shape&#x27;, &#x27;stalk-surface-above-ring&#x27;, &#x27;stalk-surface-below-ring&#x27;, &#x27;stalk-color-above-ring&#x27;, &#x27;stalk-color-below-ring&#x27;, &#x27;veil-type&#x27;, &#x27;veil-color&#x27;, &#x27;ring-number&#x27;, &#x27;ring-type&#x27;, &#x27;spore-print-color&#x27;, &#x27;population&#x27;, &#x27;habitat&#x27;]</pre></div></div></div><div class=\"sk-serial\"><div class=\"sk-item\"><div class=\"sk-serial\"><div class=\"sk-item\"><div class=\"sk-estimator sk-toggleable\"><input class=\"sk-toggleable__control sk-hidden--visually\" id=\"e88bbbd7-6c9c-4cca-ac47-c709ecc03213\" type=\"checkbox\" ><label for=\"e88bbbd7-6c9c-4cca-ac47-c709ecc03213\" class=\"sk-toggleable__label sk-toggleable__label-arrow\">OneHotEncoder</label><div class=\"sk-toggleable__content\"><pre>OneHotEncoder(handle_unknown=&#x27;ignore&#x27;, sparse=False)</pre></div></div></div></div></div></div></div></div></div></div></div></div>"
            ]
          },
          "metadata": {},
          "execution_count": 222
        }
      ]
    },
    {
      "cell_type": "code",
      "source": [
        "X_train_processed = preprocessor.transform(X_train)\n",
        "X_test_processed = preprocessor.transform(X_test)"
      ],
      "metadata": {
        "id": "Xm6LI3xOD0wQ"
      },
      "execution_count": null,
      "outputs": []
    },
    {
      "cell_type": "code",
      "source": [
        "X_train_processed\n"
      ],
      "metadata": {
        "colab": {
          "base_uri": "https://localhost:8080/"
        },
        "id": "43nM-I5sD2nL",
        "outputId": "9dc7b780-e1e0-49c2-afa0-e2239cbaf06b"
      },
      "execution_count": null,
      "outputs": [
        {
          "output_type": "execute_result",
          "data": {
            "text/plain": [
              "array([[0., 0., 1., ..., 0., 0., 0.],\n",
              "       [0., 0., 0., ..., 0., 0., 0.],\n",
              "       [0., 0., 1., ..., 0., 0., 0.],\n",
              "       ...,\n",
              "       [0., 0., 1., ..., 1., 0., 0.],\n",
              "       [0., 0., 0., ..., 1., 0., 0.],\n",
              "       [0., 0., 0., ..., 0., 0., 0.]])"
            ]
          },
          "metadata": {},
          "execution_count": 224
        }
      ]
    },
    {
      "cell_type": "markdown",
      "source": [
        "# Decision Tree "
      ],
      "metadata": {
        "id": "5jxcoT5AT_KF"
      }
    },
    {
      "cell_type": "code",
      "source": [
        "# \n",
        "dec_tree = DecisionTreeClassifier(random_state = 42, max_depth=5, criterion = 'gini',)"
      ],
      "metadata": {
        "id": "N0_lgJzpGNLu"
      },
      "execution_count": null,
      "outputs": []
    },
    {
      "cell_type": "code",
      "source": [
        "# fit the model \n",
        "dec_tree.fit(X_train_processed, y_train)"
      ],
      "metadata": {
        "id": "wf6ClZACHU9g",
        "outputId": "61e284fe-41c8-4118-f317-4bd862ce8324",
        "colab": {
          "base_uri": "https://localhost:8080/",
          "height": 75
        }
      },
      "execution_count": null,
      "outputs": [
        {
          "output_type": "execute_result",
          "data": {
            "text/plain": [
              "DecisionTreeClassifier(max_depth=5, random_state=42)"
            ],
            "text/html": [
              "<style>#sk-dea0d232-971f-4f6e-bbd8-cbfc22b439b1 {color: black;background-color: white;}#sk-dea0d232-971f-4f6e-bbd8-cbfc22b439b1 pre{padding: 0;}#sk-dea0d232-971f-4f6e-bbd8-cbfc22b439b1 div.sk-toggleable {background-color: white;}#sk-dea0d232-971f-4f6e-bbd8-cbfc22b439b1 label.sk-toggleable__label {cursor: pointer;display: block;width: 100%;margin-bottom: 0;padding: 0.3em;box-sizing: border-box;text-align: center;}#sk-dea0d232-971f-4f6e-bbd8-cbfc22b439b1 label.sk-toggleable__label-arrow:before {content: \"▸\";float: left;margin-right: 0.25em;color: #696969;}#sk-dea0d232-971f-4f6e-bbd8-cbfc22b439b1 label.sk-toggleable__label-arrow:hover:before {color: black;}#sk-dea0d232-971f-4f6e-bbd8-cbfc22b439b1 div.sk-estimator:hover label.sk-toggleable__label-arrow:before {color: black;}#sk-dea0d232-971f-4f6e-bbd8-cbfc22b439b1 div.sk-toggleable__content {max-height: 0;max-width: 0;overflow: hidden;text-align: left;background-color: #f0f8ff;}#sk-dea0d232-971f-4f6e-bbd8-cbfc22b439b1 div.sk-toggleable__content pre {margin: 0.2em;color: black;border-radius: 0.25em;background-color: #f0f8ff;}#sk-dea0d232-971f-4f6e-bbd8-cbfc22b439b1 input.sk-toggleable__control:checked~div.sk-toggleable__content {max-height: 200px;max-width: 100%;overflow: auto;}#sk-dea0d232-971f-4f6e-bbd8-cbfc22b439b1 input.sk-toggleable__control:checked~label.sk-toggleable__label-arrow:before {content: \"▾\";}#sk-dea0d232-971f-4f6e-bbd8-cbfc22b439b1 div.sk-estimator input.sk-toggleable__control:checked~label.sk-toggleable__label {background-color: #d4ebff;}#sk-dea0d232-971f-4f6e-bbd8-cbfc22b439b1 div.sk-label input.sk-toggleable__control:checked~label.sk-toggleable__label {background-color: #d4ebff;}#sk-dea0d232-971f-4f6e-bbd8-cbfc22b439b1 input.sk-hidden--visually {border: 0;clip: rect(1px 1px 1px 1px);clip: rect(1px, 1px, 1px, 1px);height: 1px;margin: -1px;overflow: hidden;padding: 0;position: absolute;width: 1px;}#sk-dea0d232-971f-4f6e-bbd8-cbfc22b439b1 div.sk-estimator {font-family: monospace;background-color: #f0f8ff;border: 1px dotted black;border-radius: 0.25em;box-sizing: border-box;margin-bottom: 0.5em;}#sk-dea0d232-971f-4f6e-bbd8-cbfc22b439b1 div.sk-estimator:hover {background-color: #d4ebff;}#sk-dea0d232-971f-4f6e-bbd8-cbfc22b439b1 div.sk-parallel-item::after {content: \"\";width: 100%;border-bottom: 1px solid gray;flex-grow: 1;}#sk-dea0d232-971f-4f6e-bbd8-cbfc22b439b1 div.sk-label:hover label.sk-toggleable__label {background-color: #d4ebff;}#sk-dea0d232-971f-4f6e-bbd8-cbfc22b439b1 div.sk-serial::before {content: \"\";position: absolute;border-left: 1px solid gray;box-sizing: border-box;top: 2em;bottom: 0;left: 50%;}#sk-dea0d232-971f-4f6e-bbd8-cbfc22b439b1 div.sk-serial {display: flex;flex-direction: column;align-items: center;background-color: white;padding-right: 0.2em;padding-left: 0.2em;}#sk-dea0d232-971f-4f6e-bbd8-cbfc22b439b1 div.sk-item {z-index: 1;}#sk-dea0d232-971f-4f6e-bbd8-cbfc22b439b1 div.sk-parallel {display: flex;align-items: stretch;justify-content: center;background-color: white;}#sk-dea0d232-971f-4f6e-bbd8-cbfc22b439b1 div.sk-parallel::before {content: \"\";position: absolute;border-left: 1px solid gray;box-sizing: border-box;top: 2em;bottom: 0;left: 50%;}#sk-dea0d232-971f-4f6e-bbd8-cbfc22b439b1 div.sk-parallel-item {display: flex;flex-direction: column;position: relative;background-color: white;}#sk-dea0d232-971f-4f6e-bbd8-cbfc22b439b1 div.sk-parallel-item:first-child::after {align-self: flex-end;width: 50%;}#sk-dea0d232-971f-4f6e-bbd8-cbfc22b439b1 div.sk-parallel-item:last-child::after {align-self: flex-start;width: 50%;}#sk-dea0d232-971f-4f6e-bbd8-cbfc22b439b1 div.sk-parallel-item:only-child::after {width: 0;}#sk-dea0d232-971f-4f6e-bbd8-cbfc22b439b1 div.sk-dashed-wrapped {border: 1px dashed gray;margin: 0 0.4em 0.5em 0.4em;box-sizing: border-box;padding-bottom: 0.4em;background-color: white;position: relative;}#sk-dea0d232-971f-4f6e-bbd8-cbfc22b439b1 div.sk-label label {font-family: monospace;font-weight: bold;background-color: white;display: inline-block;line-height: 1.2em;}#sk-dea0d232-971f-4f6e-bbd8-cbfc22b439b1 div.sk-label-container {position: relative;z-index: 2;text-align: center;}#sk-dea0d232-971f-4f6e-bbd8-cbfc22b439b1 div.sk-container {/* jupyter's `normalize.less` sets `[hidden] { display: none; }` but bootstrap.min.css set `[hidden] { display: none !important; }` so we also need the `!important` here to be able to override the default hidden behavior on the sphinx rendered scikit-learn.org. See: https://github.com/scikit-learn/scikit-learn/issues/21755 */display: inline-block !important;position: relative;}#sk-dea0d232-971f-4f6e-bbd8-cbfc22b439b1 div.sk-text-repr-fallback {display: none;}</style><div id=\"sk-dea0d232-971f-4f6e-bbd8-cbfc22b439b1\" class=\"sk-top-container\"><div class=\"sk-text-repr-fallback\"><pre>DecisionTreeClassifier(max_depth=5, random_state=42)</pre><b>Please rerun this cell to show the HTML repr or trust the notebook.</b></div><div class=\"sk-container\" hidden><div class=\"sk-item\"><div class=\"sk-estimator sk-toggleable\"><input class=\"sk-toggleable__control sk-hidden--visually\" id=\"66ba005f-d3ed-460e-90fe-1c072668a701\" type=\"checkbox\" checked><label for=\"66ba005f-d3ed-460e-90fe-1c072668a701\" class=\"sk-toggleable__label sk-toggleable__label-arrow\">DecisionTreeClassifier</label><div class=\"sk-toggleable__content\"><pre>DecisionTreeClassifier(max_depth=5, random_state=42)</pre></div></div></div></div></div>"
            ]
          },
          "metadata": {},
          "execution_count": 226
        }
      ]
    },
    {
      "cell_type": "code",
      "source": [
        "train_score = dec_tree.score(X_train_processed, y_train)\n",
        "test_score = dec_tree.score(X_test_processed, y_test)\n",
        "print(train_score)\n",
        "print(test_score)"
      ],
      "metadata": {
        "colab": {
          "base_uri": "https://localhost:8080/"
        },
        "id": "7x-A_QANOcN-",
        "outputId": "e321a528-88c9-4f1e-9af9-695d3ef8bc37"
      },
      "execution_count": null,
      "outputs": [
        {
          "output_type": "stream",
          "name": "stdout",
          "text": [
            "0.9995896594173164\n",
            "1.0\n"
          ]
        }
      ]
    },
    {
      "cell_type": "code",
      "source": [
        "dec_tree.predict(X_test_processed)"
      ],
      "metadata": {
        "colab": {
          "base_uri": "https://localhost:8080/"
        },
        "id": "fLP7AzvaQbsH",
        "outputId": "8ce82b2b-886b-427f-c45f-72414d02f195"
      },
      "execution_count": null,
      "outputs": [
        {
          "output_type": "execute_result",
          "data": {
            "text/plain": [
              "array(['e', 'p', 'p', 'e', 'p', 'p', 'p', 'p', 'e', 'e', 'e', 'p', 'e',\n",
              "       'e', 'e', 'e', 'e', 'p', 'e', 'e', 'e', 'e', 'p', 'e', 'p', 'e',\n",
              "       'e', 'e', 'e', 'p', 'p', 'p', 'e', 'e', 'e', 'p', 'e', 'p', 'p',\n",
              "       'p', 'p', 'e', 'p', 'e', 'p', 'e', 'p', 'e', 'p', 'e', 'p', 'p',\n",
              "       'p', 'p', 'e', 'p', 'e', 'e', 'p', 'p', 'p', 'e', 'e', 'e', 'p',\n",
              "       'p', 'e', 'p', 'e', 'p', 'p', 'p', 'e', 'p', 'p', 'p', 'e', 'p',\n",
              "       'p', 'p', 'e', 'p', 'e', 'e', 'e', 'e', 'p', 'p', 'e', 'p', 'e',\n",
              "       'e', 'e', 'e', 'p', 'p', 'p', 'e', 'p', 'e', 'e', 'e', 'e', 'e',\n",
              "       'p', 'p', 'e', 'p', 'e', 'p', 'p', 'p', 'p', 'p', 'p', 'p', 'e',\n",
              "       'e', 'e', 'p', 'p', 'p', 'p', 'e', 'e', 'e', 'p', 'p', 'e', 'e',\n",
              "       'e', 'e', 'e', 'e', 'p', 'p', 'p', 'p', 'p', 'p', 'p', 'e', 'e',\n",
              "       'p', 'p', 'p', 'e', 'e', 'e', 'p', 'p', 'e', 'p', 'p', 'e', 'e',\n",
              "       'p', 'p', 'p', 'p', 'e', 'e', 'p', 'e', 'p', 'e', 'p', 'p', 'p',\n",
              "       'p', 'e', 'e', 'e', 'e', 'p', 'e', 'p', 'e', 'e', 'e', 'e', 'p',\n",
              "       'e', 'e', 'p', 'e', 'e', 'p', 'p', 'e', 'e', 'p', 'e', 'e', 'e',\n",
              "       'e', 'p', 'e', 'e', 'e', 'e', 'p', 'p', 'e', 'e', 'p', 'e', 'p',\n",
              "       'e', 'p', 'p', 'e', 'e', 'e', 'p', 'e', 'p', 'p', 'p', 'e', 'e',\n",
              "       'p', 'e', 'e', 'e', 'e', 'e', 'e', 'p', 'p', 'p', 'e', 'e', 'e',\n",
              "       'e', 'p', 'e', 'e', 'p', 'p', 'e', 'p', 'p', 'e', 'e', 'e', 'p',\n",
              "       'e', 'e', 'p', 'p', 'e', 'e', 'p', 'e', 'p', 'e', 'p', 'e', 'e',\n",
              "       'e', 'e', 'e', 'p', 'p', 'e', 'e', 'e', 'e', 'e', 'p', 'e', 'e',\n",
              "       'p', 'e', 'p', 'e', 'e', 'e', 'e', 'e', 'p', 'e', 'p', 'e', 'e',\n",
              "       'p', 'e', 'p', 'p', 'p', 'e', 'p', 'e', 'e', 'e', 'e', 'e', 'p',\n",
              "       'e', 'e', 'p', 'p', 'p', 'e', 'p', 'p', 'e', 'e', 'p', 'p', 'e',\n",
              "       'p', 'e', 'e', 'p', 'e', 'p', 'p', 'p', 'e', 'p', 'e', 'p', 'p',\n",
              "       'p', 'p', 'p', 'p', 'p', 'e', 'e', 'p', 'p', 'e', 'p', 'p', 'p',\n",
              "       'e', 'p', 'e', 'e', 'e', 'p', 'e', 'p', 'p', 'e', 'e', 'p', 'e',\n",
              "       'e', 'e', 'e', 'e', 'p', 'e', 'e', 'p', 'e', 'e', 'p', 'p', 'p',\n",
              "       'e', 'e', 'p', 'p', 'p', 'p', 'e', 'e', 'e', 'e', 'p', 'p', 'e',\n",
              "       'p', 'p', 'e', 'e', 'e', 'p', 'p', 'p', 'e', 'p', 'p', 'p', 'p',\n",
              "       'p', 'p', 'e', 'p', 'p', 'e', 'p', 'e', 'p', 'p', 'e', 'e', 'e',\n",
              "       'e', 'p', 'p', 'p', 'e', 'e', 'p', 'p', 'e', 'e', 'e', 'p', 'p',\n",
              "       'e', 'p', 'e', 'p', 'e', 'p', 'e', 'e', 'p', 'e', 'p', 'p', 'e',\n",
              "       'p', 'p', 'p', 'e', 'p', 'e', 'p', 'e', 'p', 'p', 'e', 'e', 'e',\n",
              "       'p', 'p', 'p', 'p', 'p', 'p', 'p', 'p', 'p', 'p', 'p', 'e', 'e',\n",
              "       'e', 'p', 'e', 'e', 'e', 'p', 'p', 'p', 'p', 'p', 'p', 'e', 'e',\n",
              "       'p', 'e', 'p', 'e', 'e', 'p', 'p', 'e', 'e', 'e', 'e', 'p', 'p',\n",
              "       'e', 'e', 'p', 'p', 'p', 'e', 'e', 'e', 'e', 'e', 'e', 'e', 'e',\n",
              "       'p', 'e', 'e', 'e', 'p', 'p', 'e', 'p', 'p', 'p', 'p', 'e', 'e',\n",
              "       'p', 'e', 'e', 'e', 'e', 'p', 'e', 'e', 'p', 'e', 'p', 'e', 'e',\n",
              "       'p', 'e', 'e', 'p', 'e', 'p', 'p', 'e', 'e', 'e', 'p', 'p', 'e',\n",
              "       'e', 'p', 'p', 'p', 'p', 'e', 'e', 'p', 'p', 'e', 'p', 'e', 'e',\n",
              "       'e', 'e', 'p', 'p', 'p', 'p', 'p', 'e', 'p', 'e', 'p', 'p', 'p',\n",
              "       'e', 'e', 'e', 'p', 'p', 'p', 'e', 'p', 'e', 'e', 'e', 'e', 'e',\n",
              "       'e', 'e', 'e', 'p', 'e', 'p', 'p', 'p', 'p', 'e', 'p', 'e', 'p',\n",
              "       'e', 'p', 'e', 'p', 'e', 'e', 'e', 'e', 'e', 'e', 'p', 'e', 'p',\n",
              "       'e', 'e', 'e', 'e', 'p', 'e', 'e', 'p', 'p', 'p', 'p', 'p', 'p',\n",
              "       'e', 'p', 'p', 'e', 'e', 'p', 'e', 'p', 'e', 'p', 'p', 'p', 'e',\n",
              "       'e', 'p', 'e', 'e', 'e', 'p', 'e', 'p', 'e', 'p', 'p', 'e', 'p',\n",
              "       'p', 'e', 'e', 'e', 'e', 'e', 'e', 'e', 'p', 'e', 'p', 'e', 'p',\n",
              "       'p', 'p', 'e', 'e', 'e', 'e', 'e', 'p', 'p', 'p', 'e', 'p', 'e',\n",
              "       'e', 'e', 'e', 'p', 'p', 'p', 'e', 'e', 'e', 'e', 'e', 'e', 'p',\n",
              "       'e', 'e', 'e', 'e', 'p', 'p', 'e', 'e', 'p', 'e', 'p', 'e', 'e',\n",
              "       'e', 'p', 'e', 'e', 'p', 'e', 'e', 'p', 'e', 'e', 'e', 'p', 'e',\n",
              "       'e', 'p', 'p', 'e', 'e', 'p', 'p', 'p', 'e', 'p', 'e', 'e', 'p',\n",
              "       'p', 'e', 'p', 'e', 'e', 'p', 'p', 'e', 'e', 'p', 'e', 'p', 'p',\n",
              "       'e', 'p', 'e', 'p', 'e', 'e', 'e', 'e', 'p', 'e', 'p', 'e', 'p',\n",
              "       'e', 'e', 'e', 'p', 'e', 'e', 'e', 'p', 'p', 'e', 'e', 'e', 'e',\n",
              "       'p', 'p', 'e', 'p', 'p', 'e', 'e', 'e', 'p', 'e', 'e', 'p', 'e',\n",
              "       'p', 'e', 'e', 'p', 'p', 'p', 'e', 'e', 'p', 'e', 'e', 'e', 'p',\n",
              "       'e', 'e', 'p', 'p', 'e', 'p', 'p', 'p', 'e', 'p', 'p', 'e', 'e',\n",
              "       'e', 'e', 'e', 'e', 'p', 'p', 'e', 'e', 'e', 'p', 'e', 'p', 'e',\n",
              "       'e', 'p', 'e', 'p', 'p', 'p', 'p'], dtype=object)"
            ]
          },
          "metadata": {},
          "execution_count": 228
        }
      ]
    },
    {
      "cell_type": "code",
      "source": [
        "from sklearn.metrics import confusion_matrix\n",
        "from sklearn import metrics"
      ],
      "metadata": {
        "id": "6ShMZxuxQqhx"
      },
      "execution_count": null,
      "outputs": []
    },
    {
      "cell_type": "code",
      "source": [
        "predicciones = dec_tree.predict(X = X_test_processed,)\n",
        "cnf_matrix = metrics.confusion_matrix(y_test, predicciones)\n",
        "cnf_matrix"
      ],
      "metadata": {
        "colab": {
          "base_uri": "https://localhost:8080/"
        },
        "id": "GRman2TEQSdq",
        "outputId": "bb03009e-ee2a-46c8-8791-3ea27d9307e9"
      },
      "execution_count": null,
      "outputs": [
        {
          "output_type": "execute_result",
          "data": {
            "text/plain": [
              "array([[433,   0],\n",
              "       [  0, 380]])"
            ]
          },
          "metadata": {},
          "execution_count": 230
        }
      ]
    },
    {
      "cell_type": "code",
      "source": [
        "print(classification_report(y_test, predicciones))"
      ],
      "metadata": {
        "colab": {
          "base_uri": "https://localhost:8080/"
        },
        "id": "_Ka6arXIU_T-",
        "outputId": "358b9b63-caef-44f8-ab84-03ba463d51aa"
      },
      "execution_count": null,
      "outputs": [
        {
          "output_type": "stream",
          "name": "stdout",
          "text": [
            "              precision    recall  f1-score   support\n",
            "\n",
            "           e       1.00      1.00      1.00       433\n",
            "           p       1.00      1.00      1.00       380\n",
            "\n",
            "    accuracy                           1.00       813\n",
            "   macro avg       1.00      1.00      1.00       813\n",
            "weighted avg       1.00      1.00      1.00       813\n",
            "\n"
          ]
        }
      ]
    },
    {
      "cell_type": "code",
      "source": [
        "class_names=[0,1] # name  of classes\n",
        "fig, ax = plt.subplots()\n",
        "tick_marks = np.arange(len(class_names))\n",
        "plt.xticks(tick_marks, class_names)\n",
        "plt.yticks(tick_marks, class_names)\n",
        "# create heatmap\n",
        "sns.heatmap(pd.DataFrame(cnf_matrix), annot=True, cmap=\"YlGnBu\" ,fmt='g')\n",
        "ax.xaxis.set_label_position(\"top\")\n",
        "plt.tight_layout()\n",
        "plt.title('Confusion matrix Random Forest', y=1.1)\n",
        "plt.ylabel('Actual label')\n",
        "plt.xlabel('Predicted label')"
      ],
      "metadata": {
        "colab": {
          "base_uri": "https://localhost:8080/",
          "height": 340
        },
        "id": "_Vpfx-zhRY5W",
        "outputId": "84a25189-bd47-4d9f-a755-3dc4829764e5"
      },
      "execution_count": null,
      "outputs": [
        {
          "output_type": "execute_result",
          "data": {
            "text/plain": [
              "Text(0.5, 257.44, 'Predicted label')"
            ]
          },
          "metadata": {},
          "execution_count": 232
        },
        {
          "output_type": "display_data",
          "data": {
            "text/plain": [
              "<Figure size 432x288 with 2 Axes>"
            ],
            "image/png": "[encoded data removed]"
          },
          "metadata": {}
        }
      ]
    },
    {
      "cell_type": "code",
      "source": [
        "#The confusion matrix in this first model show us that the model can classify if a \n",
        "#mushrooms is edible or poisonous with a precision of 100%"
      ],
      "metadata": {
        "id": "erbZ3GZlg8nN"
      },
      "execution_count": null,
      "outputs": []
    },
    {
      "cell_type": "markdown",
      "source": [
        "# Random Forest "
      ],
      "metadata": {
        "id": "KCVDojP2x6K_"
      }
    },
    {
      "cell_type": "code",
      "source": [
        "from sklearn.ensemble import RandomForestClassifier\n",
        "rf=RandomForestClassifier(n_estimators=400,max_depth=6, min_samples_leaf=76,n_jobs=4)"
      ],
      "metadata": {
        "id": "JqtTOZYWyAW_"
      },
      "execution_count": null,
      "outputs": []
    },
    {
      "cell_type": "code",
      "source": [
        "rf.fit(X_train_processed, y_train)"
      ],
      "metadata": {
        "colab": {
          "base_uri": "https://localhost:8080/",
          "height": 92
        },
        "id": "3k6C6cGEyExG",
        "outputId": "81fa5f2e-5830-4a58-cd3e-8978a745fad0"
      },
      "execution_count": null,
      "outputs": [
        {
          "output_type": "execute_result",
          "data": {
            "text/plain": [
              "RandomForestClassifier(max_depth=6, min_samples_leaf=76, n_estimators=400,\n",
              "                       n_jobs=4)"
            ],
            "text/html": [
              "<style>#sk-aa1fce48-8904-4d10-a988-a5144782a6ea {color: black;background-color: white;}#sk-aa1fce48-8904-4d10-a988-a5144782a6ea pre{padding: 0;}#sk-aa1fce48-8904-4d10-a988-a5144782a6ea div.sk-toggleable {background-color: white;}#sk-aa1fce48-8904-4d10-a988-a5144782a6ea label.sk-toggleable__label {cursor: pointer;display: block;width: 100%;margin-bottom: 0;padding: 0.3em;box-sizing: border-box;text-align: center;}#sk-aa1fce48-8904-4d10-a988-a5144782a6ea label.sk-toggleable__label-arrow:before {content: \"▸\";float: left;margin-right: 0.25em;color: #696969;}#sk-aa1fce48-8904-4d10-a988-a5144782a6ea label.sk-toggleable__label-arrow:hover:before {color: black;}#sk-aa1fce48-8904-4d10-a988-a5144782a6ea div.sk-estimator:hover label.sk-toggleable__label-arrow:before {color: black;}#sk-aa1fce48-8904-4d10-a988-a5144782a6ea div.sk-toggleable__content {max-height: 0;max-width: 0;overflow: hidden;text-align: left;background-color: #f0f8ff;}#sk-aa1fce48-8904-4d10-a988-a5144782a6ea div.sk-toggleable__content pre {margin: 0.2em;color: black;border-radius: 0.25em;background-color: #f0f8ff;}#sk-aa1fce48-8904-4d10-a988-a5144782a6ea input.sk-toggleable__control:checked~div.sk-toggleable__content {max-height: 200px;max-width: 100%;overflow: auto;}#sk-aa1fce48-8904-4d10-a988-a5144782a6ea input.sk-toggleable__control:checked~label.sk-toggleable__label-arrow:before {content: \"▾\";}#sk-aa1fce48-8904-4d10-a988-a5144782a6ea div.sk-estimator input.sk-toggleable__control:checked~label.sk-toggleable__label {background-color: #d4ebff;}#sk-aa1fce48-8904-4d10-a988-a5144782a6ea div.sk-label input.sk-toggleable__control:checked~label.sk-toggleable__label {background-color: #d4ebff;}#sk-aa1fce48-8904-4d10-a988-a5144782a6ea input.sk-hidden--visually {border: 0;clip: rect(1px 1px 1px 1px);clip: rect(1px, 1px, 1px, 1px);height: 1px;margin: -1px;overflow: hidden;padding: 0;position: absolute;width: 1px;}#sk-aa1fce48-8904-4d10-a988-a5144782a6ea div.sk-estimator {font-family: monospace;background-color: #f0f8ff;border: 1px dotted black;border-radius: 0.25em;box-sizing: border-box;margin-bottom: 0.5em;}#sk-aa1fce48-8904-4d10-a988-a5144782a6ea div.sk-estimator:hover {background-color: #d4ebff;}#sk-aa1fce48-8904-4d10-a988-a5144782a6ea div.sk-parallel-item::after {content: \"\";width: 100%;border-bottom: 1px solid gray;flex-grow: 1;}#sk-aa1fce48-8904-4d10-a988-a5144782a6ea div.sk-label:hover label.sk-toggleable__label {background-color: #d4ebff;}#sk-aa1fce48-8904-4d10-a988-a5144782a6ea div.sk-serial::before {content: \"\";position: absolute;border-left: 1px solid gray;box-sizing: border-box;top: 2em;bottom: 0;left: 50%;}#sk-aa1fce48-8904-4d10-a988-a5144782a6ea div.sk-serial {display: flex;flex-direction: column;align-items: center;background-color: white;padding-right: 0.2em;padding-left: 0.2em;}#sk-aa1fce48-8904-4d10-a988-a5144782a6ea div.sk-item {z-index: 1;}#sk-aa1fce48-8904-4d10-a988-a5144782a6ea div.sk-parallel {display: flex;align-items: stretch;justify-content: center;background-color: white;}#sk-aa1fce48-8904-4d10-a988-a5144782a6ea div.sk-parallel::before {content: \"\";position: absolute;border-left: 1px solid gray;box-sizing: border-box;top: 2em;bottom: 0;left: 50%;}#sk-aa1fce48-8904-4d10-a988-a5144782a6ea div.sk-parallel-item {display: flex;flex-direction: column;position: relative;background-color: white;}#sk-aa1fce48-8904-4d10-a988-a5144782a6ea div.sk-parallel-item:first-child::after {align-self: flex-end;width: 50%;}#sk-aa1fce48-8904-4d10-a988-a5144782a6ea div.sk-parallel-item:last-child::after {align-self: flex-start;width: 50%;}#sk-aa1fce48-8904-4d10-a988-a5144782a6ea div.sk-parallel-item:only-child::after {width: 0;}#sk-aa1fce48-8904-4d10-a988-a5144782a6ea div.sk-dashed-wrapped {border: 1px dashed gray;margin: 0 0.4em 0.5em 0.4em;box-sizing: border-box;padding-bottom: 0.4em;background-color: white;position: relative;}#sk-aa1fce48-8904-4d10-a988-a5144782a6ea div.sk-label label {font-family: monospace;font-weight: bold;background-color: white;display: inline-block;line-height: 1.2em;}#sk-aa1fce48-8904-4d10-a988-a5144782a6ea div.sk-label-container {position: relative;z-index: 2;text-align: center;}#sk-aa1fce48-8904-4d10-a988-a5144782a6ea div.sk-container {/* jupyter's `normalize.less` sets `[hidden] { display: none; }` but bootstrap.min.css set `[hidden] { display: none !important; }` so we also need the `!important` here to be able to override the default hidden behavior on the sphinx rendered scikit-learn.org. See: https://github.com/scikit-learn/scikit-learn/issues/21755 */display: inline-block !important;position: relative;}#sk-aa1fce48-8904-4d10-a988-a5144782a6ea div.sk-text-repr-fallback {display: none;}</style><div id=\"sk-aa1fce48-8904-4d10-a988-a5144782a6ea\" class=\"sk-top-container\"><div class=\"sk-text-repr-fallback\"><pre>RandomForestClassifier(max_depth=6, min_samples_leaf=76, n_estimators=400,\n",
              "                       n_jobs=4)</pre><b>Please rerun this cell to show the HTML repr or trust the notebook.</b></div><div class=\"sk-container\" hidden><div class=\"sk-item\"><div class=\"sk-estimator sk-toggleable\"><input class=\"sk-toggleable__control sk-hidden--visually\" id=\"186e268c-30b2-4454-81eb-043eae72837a\" type=\"checkbox\" checked><label for=\"186e268c-30b2-4454-81eb-043eae72837a\" class=\"sk-toggleable__label sk-toggleable__label-arrow\">RandomForestClassifier</label><div class=\"sk-toggleable__content\"><pre>RandomForestClassifier(max_depth=6, min_samples_leaf=76, n_estimators=400,\n",
              "                       n_jobs=4)</pre></div></div></div></div></div>"
            ]
          },
          "metadata": {},
          "execution_count": 234
        }
      ]
    },
    {
      "cell_type": "code",
      "source": [
        "train_preds = rf.predict(X_train_processed)\n",
        "test_preds = rf.predict(X_test_processed)"
      ],
      "metadata": {
        "id": "6aBCS7k_yLB2"
      },
      "execution_count": null,
      "outputs": []
    },
    {
      "cell_type": "code",
      "source": [
        "train_score = rf.score(X_train_processed, y_train)\n",
        "test_score = rf.score(X_test_processed, y_test)\n",
        "print(train_score)\n",
        "print(test_score)"
      ],
      "metadata": {
        "colab": {
          "base_uri": "https://localhost:8080/"
        },
        "id": "iobGxzJzyPdu",
        "outputId": "4bc068c5-7e96-4768-c68a-cbef22d19dea"
      },
      "execution_count": null,
      "outputs": [
        {
          "output_type": "stream",
          "name": "stdout",
          "text": [
            "0.9887840240733142\n",
            "0.992619926199262\n"
          ]
        }
      ]
    },
    {
      "cell_type": "code",
      "source": [
        "\n",
        "rf_5 = RandomForestClassifier(max_depth =8, random_state = 42)\n",
        "rf_5.fit(X_train_processed, y_train)\n",
        "train_5_score = rf_5.score(X_train_processed, y_train)\n",
        "test_5_score = rf_5.score(X_test_processed, y_test)\n",
        "print(train_5_score)\n",
        "print(test_5_score)"
      ],
      "metadata": {
        "colab": {
          "base_uri": "https://localhost:8080/"
        },
        "id": "whUzas6OyXri",
        "outputId": "18068afb-4562-40d0-93c7-7efe47175b48"
      },
      "execution_count": null,
      "outputs": [
        {
          "output_type": "stream",
          "name": "stdout",
          "text": [
            "1.0\n",
            "1.0\n"
          ]
        }
      ]
    },
    {
      "cell_type": "code",
      "source": [
        "predicciones2 = rf_5.predict(X = X_test_processed,)\n",
        "cnf_matrix = metrics.confusion_matrix(y_test, predicciones2)\n",
        "cnf_matrix"
      ],
      "metadata": {
        "colab": {
          "base_uri": "https://localhost:8080/"
        },
        "id": "4acmX415y4IV",
        "outputId": "59450a06-5397-4865-b90d-e3818c545715"
      },
      "execution_count": null,
      "outputs": [
        {
          "output_type": "execute_result",
          "data": {
            "text/plain": [
              "array([[433,   0],\n",
              "       [  0, 380]])"
            ]
          },
          "metadata": {},
          "execution_count": 238
        }
      ]
    },
    {
      "cell_type": "code",
      "source": [
        "#The confusion matrix in this first model show us that the model can classify if a \n",
        "#mushrooms is edible or poisonous with a precision of 100%"
      ],
      "metadata": {
        "id": "w4b28Ttah6KL"
      },
      "execution_count": null,
      "outputs": []
    },
    {
      "cell_type": "code",
      "source": [
        "print(classification_report(y_test, predicciones2))"
      ],
      "metadata": {
        "colab": {
          "base_uri": "https://localhost:8080/"
        },
        "id": "mFeGCUMdUbZg",
        "outputId": "21708bbc-e59d-41f8-d02f-6e76a5f4d4ed"
      },
      "execution_count": null,
      "outputs": [
        {
          "output_type": "stream",
          "name": "stdout",
          "text": [
            "              precision    recall  f1-score   support\n",
            "\n",
            "           e       1.00      1.00      1.00       433\n",
            "           p       1.00      1.00      1.00       380\n",
            "\n",
            "    accuracy                           1.00       813\n",
            "   macro avg       1.00      1.00      1.00       813\n",
            "weighted avg       1.00      1.00      1.00       813\n",
            "\n"
          ]
        }
      ]
    },
    {
      "cell_type": "code",
      "source": [
        "#The classification report obtained shows a value of 1 for recall, precision and F1 \n",
        "#suggesting that the model works so well to classify mushrooms as edible or poisonous."
      ],
      "metadata": {
        "id": "RCXLmtxUianJ"
      },
      "execution_count": null,
      "outputs": []
    }
  ]
}